{
 "cells": [
  {
   "cell_type": "markdown",
   "id": "33f82b75",
   "metadata": {},
   "source": [
    "# Assignment 2.2\n",
    "**Author:** Rex Gayas  \n",
    "**Date:** 10 December 2023  \n",
    "**Modified By:** N/A  \n",
    "**Description:** This assignment develops understanding and practical skills related to arrays, particularly using Python and the NumPy library. "
   ]
  },
  {
   "cell_type": "code",
   "execution_count": 3,
   "id": "0b41082f",
   "metadata": {},
   "outputs": [
    {
     "data": {
      "text/plain": [
       "(([0, 1, 4, 9], [0, 1, 8, 27]),\n",
       " (array([0, 1, 4, 9], dtype=int32), array([ 0,  1,  8, 27], dtype=int32)))"
      ]
     },
     "execution_count": 3,
     "metadata": {},
     "output_type": "execute_result"
    }
   ],
   "source": [
    "# Question 1: Using standard Python\n",
    "import numpy as np\n",
    "\n",
    "# Function to create vectors a and b using just Python\n",
    "def create_vectors_python(n):\n",
    "    # Vector a with squares of integers from 0 to n\n",
    "    a = [i**2 for i in range(n + 1)]\n",
    "    # Vector b with cubes of integers from 0 to n\n",
    "    b = [i**3 for i in range(n + 1)]\n",
    "    return a, b\n",
    "\n",
    "# Function to create vectors a and b using NumPy\n",
    "def create_vectors_numpy(n):\n",
    "    # Generating an array of integers from 0 to n\n",
    "    array = np.arange(n + 1)\n",
    "    # Vector a with squares of integers from 0 to n\n",
    "    a = np.square(array)\n",
    "    # Vector b with cubes of integers from 0 to n\n",
    "    b = np.power(array, 3)\n",
    "    return a, b\n",
    "\n",
    "# Let's test the functions with n=3\n",
    "n = 3\n",
    "vectors_python = create_vectors_python(n)\n",
    "vectors_numpy = create_vectors_numpy(n)\n",
    "\n",
    "vectors_python, vectors_numpy\n"
   ]
  },
  {
   "cell_type": "code",
   "execution_count": 4,
   "id": "2e0ca5a7",
   "metadata": {},
   "outputs": [
    {
     "name": "stdout",
     "output_type": "stream",
     "text": [
      ".. _iris_dataset:\n",
      "\n",
      "Iris plants dataset\n",
      "--------------------\n",
      "\n",
      "**Data Set Characteristics:**\n",
      "\n",
      "    :Number of Instances: 150 (50 in each of three classes)\n",
      "    :Number of Attributes: 4 numeric, predictive attributes and the class\n",
      "    :Attribute Information:\n",
      "        - sepal length in cm\n",
      "        - sepal width in cm\n",
      "        - petal length in cm\n",
      "        - petal width in cm\n",
      "        - class:\n",
      "                - Iris-Setosa\n",
      "                - Iris-Versicolour\n",
      "                - Iris-Virginica\n",
      "                \n",
      "    :Summary Statistics:\n",
      "\n",
      "    ============== ==== ==== ======= ===== ====================\n",
      "                    Min  Max   Mean    SD   Class Correlation\n",
      "    ============== ==== ==== ======= ===== ====================\n",
      "    sepal length:   4.3  7.9   5.84   0.83    0.7826\n",
      "    sepal width:    2.0  4.4   3.05   0.43   -0.4194\n",
      "    petal length:   1.0  6.9   3.76   1.76    0.9490  (high!)\n",
      "    petal width:    0.1  2.5   1.20   0.76    0.9565  (high!)\n",
      "    ============== ==== ==== ======= ===== ====================\n",
      "\n",
      "    :Missing Attribute Values: None\n",
      "    :Class Distribution: 33.3% for each of 3 classes.\n",
      "    :Creator: R.A. Fisher\n",
      "    :Donor: Michael Marshall (MARSHALL%PLU@io.arc.nasa.gov)\n",
      "    :Date: July, 1988\n",
      "\n",
      "The famous Iris database, first used by Sir R.A. Fisher. The dataset is taken\n",
      "from Fisher's paper. Note that it's the same as in R, but not as in the UCI\n",
      "Machine Learning Repository, which has two wrong data points.\n",
      "\n",
      "This is perhaps the best known database to be found in the\n",
      "pattern recognition literature.  Fisher's paper is a classic in the field and\n",
      "is referenced frequently to this day.  (See Duda & Hart, for example.)  The\n",
      "data set contains 3 classes of 50 instances each, where each class refers to a\n",
      "type of iris plant.  One class is linearly separable from the other 2; the\n",
      "latter are NOT linearly separable from each other.\n",
      "\n",
      ".. topic:: References\n",
      "\n",
      "   - Fisher, R.A. \"The use of multiple measurements in taxonomic problems\"\n",
      "     Annual Eugenics, 7, Part II, 179-188 (1936); also in \"Contributions to\n",
      "     Mathematical Statistics\" (John Wiley, NY, 1950).\n",
      "   - Duda, R.O., & Hart, P.E. (1973) Pattern Classification and Scene Analysis.\n",
      "     (Q327.D83) John Wiley & Sons.  ISBN 0-471-22361-1.  See page 218.\n",
      "   - Dasarathy, B.V. (1980) \"Nosing Around the Neighborhood: A New System\n",
      "     Structure and Classification Rule for Recognition in Partially Exposed\n",
      "     Environments\".  IEEE Transactions on Pattern Analysis and Machine\n",
      "     Intelligence, Vol. PAMI-2, No. 1, 67-71.\n",
      "   - Gates, G.W. (1972) \"The Reduced Nearest Neighbor Rule\".  IEEE Transactions\n",
      "     on Information Theory, May 1972, 431-433.\n",
      "   - See also: 1988 MLC Proceedings, 54-64.  Cheeseman et al\"s AUTOCLASS II\n",
      "     conceptual clustering system finds 3 classes in the data.\n",
      "   - Many, many more ...\n"
     ]
    },
    {
     "data": {
      "image/png": "[encoded data removed]",
      "text/plain": [
       "<Figure size 800x500 with 1 Axes>"
      ]
     },
     "metadata": {},
     "output_type": "display_data"
    }
   ],
   "source": [
    "# Question 2 Iris dataset \n",
    "# Import relevant libraries\n",
    "from sklearn.datasets import load_iris\n",
    "import matplotlib.pyplot as plt\n",
    "\n",
    "# Load the iris dataset\n",
    "iris_data = load_iris()\n",
    "iris_features = iris_data.data\n",
    "iris_feature_names = iris_data.feature_names\n",
    "\n",
    "# Print a description of the dataset\n",
    "print(iris_data.DESCR)\n",
    "\n",
    "# Extracting sepal length (column 1) and sepal width (column 2)\n",
    "sepal_length = iris_features[:, 0]  # Column 1: sepal length\n",
    "sepal_width = iris_features[:, 1]   # Column 2: sepal width\n",
    "\n",
    "# Plotting the data\n",
    "plt.figure(figsize=(8, 5))\n",
    "plt.scatter(sepal_length, sepal_width, color='blue')\n",
    "plt.title('Iris Dataset - Sepal Length vs Sepal Width')\n",
    "plt.xlabel(iris_feature_names[0])  # Sepal length\n",
    "plt.ylabel(iris_feature_names[1])  # Sepal width\n",
    "plt.grid(True)\n",
    "plt.show()\n"
   ]
  },
  {
   "cell_type": "code",
   "execution_count": 15,
   "id": "1286391f",
   "metadata": {},
   "outputs": [
    {
     "name": "stdout",
     "output_type": "stream",
     "text": [
      ".. _boston_dataset:\n",
      "\n",
      "Boston house prices dataset\n",
      "---------------------------\n",
      "\n",
      "**Data Set Characteristics:**  \n",
      "\n",
      "    :Number of Instances: 506 \n",
      "\n",
      "    :Number of Attributes: 13 numeric/categorical predictive. Median Value (attribute 14) is usually the target.\n",
      "\n",
      "    :Attribute Information (in order):\n",
      "        - CRIM     per capita crime rate by town\n",
      "        - ZN       proportion of residential land zoned for lots over 25,000 sq.ft.\n",
      "        - INDUS    proportion of non-retail business acres per town\n",
      "        - CHAS     Charles River dummy variable (= 1 if tract bounds river; 0 otherwise)\n",
      "        - NOX      nitric oxides concentration (parts per 10 million)\n",
      "        - RM       average number of rooms per dwelling\n",
      "        - AGE      proportion of owner-occupied units built prior to 1940\n",
      "        - DIS      weighted distances to five Boston employment centres\n",
      "        - RAD      index of accessibility to radial highways\n",
      "        - TAX      full-value property-tax rate per $10,000\n",
      "        - PTRATIO  pupil-teacher ratio by town\n",
      "        - B        1000(Bk - 0.63)^2 where Bk is the proportion of black people by town\n",
      "        - LSTAT    % lower status of the population\n",
      "        - MEDV     Median value of owner-occupied homes in $1000's\n",
      "\n",
      "    :Missing Attribute Values: None\n",
      "\n",
      "    :Creator: Harrison, D. and Rubinfeld, D.L.\n",
      "\n",
      "This is a copy of UCI ML housing dataset.\n",
      "https://archive.ics.uci.edu/ml/machine-learning-databases/housing/\n",
      "\n",
      "\n",
      "This dataset was taken from the StatLib library which is maintained at Carnegie Mellon University.\n",
      "\n",
      "The Boston house-price data of Harrison, D. and Rubinfeld, D.L. 'Hedonic\n",
      "prices and the demand for clean air', J. Environ. Economics & Management,\n",
      "vol.5, 81-102, 1978.   Used in Belsley, Kuh & Welsch, 'Regression diagnostics\n",
      "...', Wiley, 1980.   N.B. Various transformations are used in the table on\n",
      "pages 244-261 of the latter.\n",
      "\n",
      "The Boston house-price data has been used in many machine learning papers that address regression\n",
      "problems.   \n",
      "     \n",
      ".. topic:: References\n",
      "\n",
      "   - Belsley, Kuh & Welsch, 'Regression diagnostics: Identifying Influential Data and Sources of Collinearity', Wiley, 1980. 244-261.\n",
      "   - Quinlan,R. (1993). Combining Instance-Based and Model-Based Learning. In Proceedings on the Tenth International Conference of Machine Learning, 236-243, University of Massachusetts, Amherst. Morgan Kaufmann.\n",
      "\n"
     ]
    },
    {
     "data": {
      "image/png": "[encoded data removed]",
      "text/plain": [
       "<Figure size 800x500 with 1 Axes>"
      ]
     },
     "metadata": {},
     "output_type": "display_data"
    }
   ],
   "source": [
    "#Question 3 Boston dataset\n",
    "# Import relevant libraries\n",
    "from sklearn.datasets import load_boston\n",
    "import matplotlib.pyplot as plt\n",
    "\n",
    "# Load the Boston dataset\n",
    "boston_data = load_boston()\n",
    "boston_features = boston_data.data\n",
    "boston_feature_names = boston_data.feature_names\n",
    "\n",
    "# Print a description of the dataset\n",
    "print(boston_data.DESCR)\n",
    "\n",
    "# Extracting proportion of non-retail business acres per town (column 3) \n",
    "# and nitric oxides concentration (parts per 10 million) (column 5)\n",
    "non_retail_business = boston_features[:, 2]  # Column 3: proportion of non-retail business\n",
    "nitric_oxide_concentration = boston_features[:, 4]  # Column 5: nitric oxides concentration\n",
    "\n",
    "# Plotting the data with each point marked with a '+'\n",
    "plt.figure(figsize=(8, 5))\n",
    "plt.scatter(non_retail_business, nitric_oxide_concentration, marker='+', color='red')\n",
    "plt.title('Boston Dataset - Non-retail Business Proportion vs Nitric Oxide Concentration')\n",
    "plt.xlabel(boston_feature_names[2])  # Proportion of non-retail business\n",
    "plt.ylabel(boston_feature_names[4])  # Nitric oxide concentration\n",
    "plt.grid(True)\n",
    "plt.show()\n"
   ]
  },
  {
   "cell_type": "code",
   "execution_count": 8,
   "id": "7627cd5c",
   "metadata": {},
   "outputs": [
    {
     "name": "stdout",
     "output_type": "stream",
     "text": [
      "Multi-dimensional array:\n",
      "[[[0.07852872 0.77755726 0.23222921 0.05546102]\n",
      "  [0.56050988 0.90037226 0.91394861 0.62023927]\n",
      "  [0.34654993 0.03888743 0.17649995 0.09188566]]\n",
      "\n",
      " [[0.19436769 0.691765   0.45952574 0.4719135 ]\n",
      "  [0.02215926 0.2951192  0.43768902 0.85414682]\n",
      "  [0.67514657 0.74267123 0.58579817 0.9180906 ]]]\n"
     ]
    }
   ],
   "source": [
    "# Question 4: Create a multi-dimensional array.\n",
    "\n",
    "import numpy as np\n",
    "\n",
    "# Create a 3-dimensional array of shape (2,3,4)\n",
    "multi_dim_array = np.random.rand(2, 3, 4)\n",
    "\n",
    "# Display the created array\n",
    "print(\"Multi-dimensional array:\")\n",
    "print(multi_dim_array)\n"
   ]
  },
  {
   "cell_type": "code",
   "execution_count": 9,
   "id": "85d91290",
   "metadata": {},
   "outputs": [
    {
     "name": "stdout",
     "output_type": "stream",
     "text": [
      "Array of single precision floats:\n",
      "[[0.83593076 0.1990278  0.23413432 0.7278758  0.8952995 ]\n",
      " [0.66088086 0.3428216  0.6144702  0.67204446 0.50512254]\n",
      " [0.06254129 0.02136307 0.1538079  0.56147736 0.81633735]\n",
      " [0.8642606  0.7384321  0.3657101  0.57779235 0.5093525 ]\n",
      " [0.87240916 0.4679212  0.29422265 0.17364922 0.50634664]]\n"
     ]
    }
   ],
   "source": [
    "# Question 5: Produce an array of single precision floats.\n",
    "\n",
    "import numpy as np\n",
    "\n",
    "# Create an array of random numbers with dtype set to 'float32' (single precision)\n",
    "single_precision_array = np.random.rand(5, 5).astype(np.float32)\n",
    "\n",
    "# Display the created array\n",
    "print(\"Array of single precision floats:\")\n",
    "print(single_precision_array)\n"
   ]
  },
  {
   "cell_type": "code",
   "execution_count": 10,
   "id": "b3874825",
   "metadata": {},
   "outputs": [
    {
     "name": "stdout",
     "output_type": "stream",
     "text": [
      "Array of complex numbers:\n",
      "[[0.22216548+0.j 0.96787011+0.j 0.55040712+0.j]\n",
      " [0.62453332+0.j 0.59181247+0.j 0.65236205+0.j]\n",
      " [0.25684543+0.j 0.34990927+0.j 0.53628573+0.j]]\n"
     ]
    }
   ],
   "source": [
    "# Question 6: Produce an array of complex numbers.\n",
    "\n",
    "import numpy as np\n",
    "\n",
    "# Create an array of random numbers with dtype set to 'complex128' (complex numbers)\n",
    "complex_array = np.random.rand(3, 3).astype(np.complex128)\n",
    "\n",
    "# Display the created array\n",
    "print(\"Array of complex numbers:\")\n",
    "print(complex_array)\n"
   ]
  },
  {
   "cell_type": "code",
   "execution_count": 11,
   "id": "d8c95f01",
   "metadata": {},
   "outputs": [
    {
     "name": "stdout",
     "output_type": "stream",
     "text": [
      "Original array: [0 1 2 3 4 5 6 7 8]\n",
      "Part of array from index 3 to 7: [3 4 5 6]\n",
      "Elements from index 0 to 7 with increment of 2: [0 2 4 6]\n",
      "Reversed array: [8 7 6 5 4 3 2 1 0]\n"
     ]
    }
   ],
   "source": [
    "# Question 7: Define an array containing numbers 0 to 8, perform various indexing operations and reverse the array.\n",
    "\n",
    "import numpy as np\n",
    "\n",
    "# Create an array containing numbers 0 to 8\n",
    "array = np.arange(9)\n",
    "\n",
    "# Select a part of the array from indexes 3 to 7 (elements 3 through 6)\n",
    "part_3_to_7 = array[3:7]\n",
    "\n",
    "# Choose elements from index 0 to 7 with an increment of 2\n",
    "incremented_elements = array[0:8:2]\n",
    "\n",
    "# Reverse the array\n",
    "reversed_array = array[::-1]\n",
    "\n",
    "# Display the results\n",
    "print(\"Original array:\", array)\n",
    "print(\"Part of array from index 3 to 7:\", part_3_to_7)\n",
    "print(\"Elements from index 0 to 7 with increment of 2:\", incremented_elements)\n",
    "print(\"Reversed array:\", reversed_array)\n"
   ]
  },
  {
   "cell_type": "code",
   "execution_count": 12,
   "id": "3e698c58",
   "metadata": {},
   "outputs": [
    {
     "name": "stdout",
     "output_type": "stream",
     "text": [
      "Initial Array:\n",
      " [[ 0  1  2  3  4  5]\n",
      " [ 6  7  8  9 10 11]]\n",
      "\n",
      "Raveled Array:\n",
      " [ 0  1  2  3  4  5  6  7  8  9 10 11]\n",
      "\n",
      "Flattened Array:\n",
      " [ 0  1  2  3  4  5  6  7  8  9 10 11]\n",
      "\n",
      "Array after setting shape to (2, 6):\n",
      " [[ 0  1  2  3  4  5]\n",
      " [ 6  7  8  9 10 11]]\n",
      "\n",
      "Transposed Array:\n",
      " [[ 0  6]\n",
      " [ 1  7]\n",
      " [ 2  8]\n",
      " [ 3  9]\n",
      " [ 4 10]\n",
      " [ 5 11]]\n",
      "\n",
      "Resized Array (4x4):\n",
      " [[ 0  1  2  3]\n",
      " [ 4  5  6  7]\n",
      " [ 8  9 10 11]\n",
      " [ 0  1  2  3]]\n"
     ]
    }
   ],
   "source": [
    "# Question 8: Perform specific array functions as mentioned in the textbook (pages 33 and 34).\n",
    "\n",
    "import numpy as np\n",
    "\n",
    "# Create an initial array for demonstration\n",
    "initial_array = np.arange(12).reshape(3, 4)\n",
    "\n",
    "# Ravel the array\n",
    "raveled_array = initial_array.ravel()\n",
    "\n",
    "# Flatten the array\n",
    "flattened_array = initial_array.flatten()\n",
    "\n",
    "# Setting the shape with a tuple\n",
    "initial_array.shape = (2, 6)\n",
    "\n",
    "# Transpose the array\n",
    "transposed_array = initial_array.T\n",
    "\n",
    "# Resize the array\n",
    "resized_array = np.resize(initial_array, (4, 4))\n",
    "\n",
    "# Displaying the results\n",
    "print(\"Initial Array:\\n\", initial_array)\n",
    "print(\"\\nRaveled Array:\\n\", raveled_array)\n",
    "print(\"\\nFlattened Array:\\n\", flattened_array)\n",
    "print(\"\\nArray after setting shape to (2, 6):\\n\", initial_array)\n",
    "print(\"\\nTransposed Array:\\n\", transposed_array)\n",
    "print(\"\\nResized Array (4x4):\\n\", resized_array)\n"
   ]
  },
  {
   "cell_type": "code",
   "execution_count": 13,
   "id": "f6e1ffb7",
   "metadata": {},
   "outputs": [
    {
     "name": "stdout",
     "output_type": "stream",
     "text": [
      "Number of dimensions: 2\n",
      "Count of elements: 6\n",
      "Count of bytes for each element: 4\n",
      "Full count of bytes for the entire array: 24\n"
     ]
    }
   ],
   "source": [
    "# Question 9: Create an array and find specific properties as mentioned on page 41 of the textbook.\n",
    "\n",
    "import numpy as np\n",
    "\n",
    "# Create an array for demonstration\n",
    "array = np.array([[1, 2, 3], [4, 5, 6]])\n",
    "\n",
    "# Number of dimensions\n",
    "num_dimensions = array.ndim\n",
    "\n",
    "# Count of elements\n",
    "element_count = array.size\n",
    "\n",
    "# Count of bytes for each element\n",
    "element_bytes = array.itemsize\n",
    "\n",
    "# Full count of bytes for the entire array\n",
    "total_bytes = array.nbytes\n",
    "\n",
    "# Displaying the properties\n",
    "print(\"Number of dimensions:\", num_dimensions)\n",
    "print(\"Count of elements:\", element_count)\n",
    "print(\"Count of bytes for each element:\", element_bytes)\n",
    "print(\"Full count of bytes for the entire array:\", total_bytes)\n"
   ]
  },
  {
   "cell_type": "code",
   "execution_count": 16,
   "id": "c23bee89",
   "metadata": {},
   "outputs": [
    {
     "name": "stdout",
     "output_type": "stream",
     "text": [
      "Converted Python list:\n",
      "[[7, 8, 9], [10, 11, 12]]\n"
     ]
    }
   ],
   "source": [
    "# Question 10: Convert an array to a Python list as described on page 44 (2nd edition?) of the textbook.\n",
    "\n",
    "import numpy as np\n",
    "\n",
    "# Create an array for demonstration\n",
    "array_to_convert = np.array([[7, 8, 9], [10, 11, 12]])\n",
    "\n",
    "# Convert the array to a Python list\n",
    "converted_list = array_to_convert.tolist()\n",
    "\n",
    "# Display the converted list\n",
    "print(\"Converted Python list:\")\n",
    "print(converted_list)\n"
   ]
  },
  {
   "cell_type": "code",
   "execution_count": null,
   "id": "26af70e3",
   "metadata": {},
   "outputs": [],
   "source": []
  }
 ],
 "metadata": {
  "kernelspec": {
   "display_name": "Python 3 (ipykernel)",
   "language": "python",
   "name": "python3"
  },
  "language_info": {
   "codemirror_mode": {
    "name": "ipython",
    "version": 3
   },
   "file_extension": ".py",
   "mimetype": "text/x-python",
   "name": "python",
   "nbconvert_exporter": "python",
   "pygments_lexer": "ipython3",
   "version": "3.9.13"
  }
 },
 "nbformat": 4,
 "nbformat_minor": 5
}
