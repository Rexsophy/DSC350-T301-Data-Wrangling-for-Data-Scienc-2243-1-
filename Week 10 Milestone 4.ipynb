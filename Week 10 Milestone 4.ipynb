{
 "cells": [
  {
   "cell_type": "markdown",
   "id": "66b01b35-3a6a-40a5-a6a7-9e6923b0fbbd",
   "metadata": {},
   "source": [
    "#### Rex Gayas DSC350-T301 Data Wrangling for Data Scienc (2243-1)\n",
    "#### Term Project Milestone 4 18 FEB 2024"
   ]
  },
  {
   "cell_type": "code",
   "execution_count": 22,
   "id": "219a7409-090c-45c9-a7d6-4042b9e5c109",
   "metadata": {},
   "outputs": [
    {
     "name": "stdout",
     "output_type": "stream",
     "text": [
      "               Date / Time\\n      Dis- solvedoxygen,  mg/L,[HRECOS]  \\\n",
      "0     02/12/2024 00:00   EST                                13.8P     \n",
      "1     02/12/2024 00:15   EST                                13.8P     \n",
      "2     02/12/2024 00:30   EST                                13.7P     \n",
      "3     02/12/2024 00:45   EST                                13.7P     \n",
      "4     02/12/2024 01:00   EST                                13.7P     \n",
      "..                       ...                                    ...   \n",
      "750   02/19/2024 19:30   EST                                13.6P     \n",
      "751   02/19/2024 19:45   EST                                13.6P     \n",
      "752   02/19/2024 20:00   EST                                13.6P     \n",
      "753   02/19/2024 20:15   EST                                13.6P     \n",
      "754   02/19/2024 20:30   EST                                13.6P     \n",
      "\n",
      "    Estuary   or ocean elev- ation, NAVD,  feet,[HRECOS]  \\\n",
      "0                                             -4.23P       \n",
      "1                                             -4.27P       \n",
      "2                                             -4.39P       \n",
      "3                                             -4.50P       \n",
      "4                                             -4.62P       \n",
      "..                                                 ...     \n",
      "750                                                        \n",
      "751                                                        \n",
      "752                                                        \n",
      "753                                                        \n",
      "754                                                        \n",
      "\n",
      "       Temper- ature, water, deg C,[HRECOS]  \\\n",
      "0                                    2.2P     \n",
      "1                                    2.2P     \n",
      "2                                    2.2P     \n",
      "3                                    2.2P     \n",
      "4                                    2.2P     \n",
      "..                                      ...   \n",
      "750                                  2.2P     \n",
      "751                                  2.2P     \n",
      "752                                  2.2P     \n",
      "753                                  2.2P     \n",
      "754                                  2.1P     \n",
      "\n",
      "    Specif-   icconduc- tance,wat unfuS/cm @25 degC,[HRECOS]  \\\n",
      "0                                               474P           \n",
      "1                                               496P           \n",
      "2                                               535P           \n",
      "3                                               596P           \n",
      "4                                               574P           \n",
      "..                                                 ...         \n",
      "750                                             261P           \n",
      "751                                             261P           \n",
      "752                                             261P           \n",
      "753                                             261P           \n",
      "754                                             261P           \n",
      "\n",
      "    Turbid-  ity, IR LED light,det ang90 deg,  FNU,[HRECOSEXO]  \\\n",
      "0                                              76.2P             \n",
      "1                                              65.2P             \n",
      "2                                              82.2P             \n",
      "3                                              84.0P             \n",
      "4                                              66.1P             \n",
      "..                                                 ...           \n",
      "750                                            21.3P             \n",
      "751                                            25.0P             \n",
      "752                                            22.9P             \n",
      "753                                            22.2P             \n",
      "754                                            20.7P             \n",
      "\n",
      "       pH, water,unfltrd field,  std units,[HRECOS]  \\\n",
      "0                                            8.1P     \n",
      "1                                            8.1P     \n",
      "2                                            8.0P     \n",
      "3                                            8.0P     \n",
      "4                                            8.0P     \n",
      "..                                              ...   \n",
      "750                                          8.0P     \n",
      "751                                          8.0P     \n",
      "752                                          8.0P     \n",
      "753                                          8.0P     \n",
      "754                                          8.0P     \n",
      "\n",
      "       Dis- solvedoxygen,percentof sat-uration,[HRECOS]  \\\n",
      "0                                               100P      \n",
      "1                                               100P      \n",
      "2                                               100P      \n",
      "3                                               100P      \n",
      "4                                               100P      \n",
      "..                                                 ...    \n",
      "750                                              99P      \n",
      "751                                              99P      \n",
      "752                                              99P      \n",
      "753                                              99P      \n",
      "754                                              99P      \n",
      "\n",
      "       Salin-  ity, water,unfltrd  psu,[HRECOS]  \n",
      "0                                        0.2P    \n",
      "1                                        0.2P    \n",
      "2                                        0.3P    \n",
      "3                                        0.3P    \n",
      "4                                        0.3P    \n",
      "..                                          ...  \n",
      "750                                      0.1P    \n",
      "751                                      0.1P    \n",
      "752                                      0.1P    \n",
      "753                                      0.1P    \n",
      "754                                      0.1P    \n",
      "\n",
      "[755 rows x 9 columns]\n"
     ]
    }
   ],
   "source": [
    "import requests\n",
    "from bs4 import BeautifulSoup\n",
    "import pandas as pd\n",
    "\n",
    "# URL of the webpage to scrape\n",
    "url = 'https://waterdata.usgs.gov/nwis/uv?cb_00010=on&cb_00010=on&cb_00095=on&cb_00095=on&cb_00300=on&cb_00300=on&cb_00301=on&cb_00400=on&cb_00400=on&cb_62619=on&cb_62620=on&cb_63680=on&cb_63680=on&cb_90860=on&format=html&site_no=01374019&legacy=1&period=&begin_date=2024-02-12&end_date=2024-02-19'\n",
    "\n",
    "# Send a GET request to the URL\n",
    "response = requests.get(url)\n",
    "\n",
    "# Parse the HTML content of the page\n",
    "soup = BeautifulSoup(response.text, 'html.parser')\n",
    "\n",
    "# Find the table with the data using class selectors\n",
    "data_table = soup.find('table', class_='tablesorter')\n",
    "\n",
    "# Extract the headers\n",
    "headers = [header.get_text() for header in data_table.find_all('th')]\n",
    "\n",
    "# Extract data from each row of the table\n",
    "data = []\n",
    "for row in data_table.find_all('tr'):\n",
    "    cols = row.find_all('td')\n",
    "    cols_text = [col.get_text() for col in cols]\n",
    "    if cols_text:\n",
    "        data.append(cols_text)\n",
    "\n",
    "# Convert the list of data into a pandas DataFrame\n",
    "df = pd.DataFrame(data, columns=headers)\n",
    "\n",
    "# Print the cleaned DataFrame\n",
    "print(df)"
   ]
  },
  {
   "cell_type": "markdown",
   "id": "02a878d1-21f4-41e8-9e96-89094a9132b1",
   "metadata": {},
   "source": [
    "##### Replace Headers"
   ]
  },
  {
   "cell_type": "code",
   "execution_count": 23,
   "id": "a33284de-03d9-497b-bde6-9b4e13c25fad",
   "metadata": {},
   "outputs": [
    {
     "name": "stdout",
     "output_type": "stream",
     "text": [
      "               Date and Time Dissolved Oxygen (mg/L) Elevation (ft)  \\\n",
      "0     02/12/2024 00:00   EST                 13.8P         -4.23P     \n",
      "1     02/12/2024 00:15   EST                 13.8P         -4.27P     \n",
      "2     02/12/2024 00:30   EST                 13.7P         -4.39P     \n",
      "3     02/12/2024 00:45   EST                 13.7P         -4.50P     \n",
      "4     02/12/2024 01:00   EST                 13.7P         -4.62P     \n",
      "..                       ...                     ...            ...   \n",
      "750   02/19/2024 19:30   EST                 13.6P                    \n",
      "751   02/19/2024 19:45   EST                 13.6P                    \n",
      "752   02/19/2024 20:00   EST                 13.6P                    \n",
      "753   02/19/2024 20:15   EST                 13.6P                    \n",
      "754   02/19/2024 20:30   EST                 13.6P                    \n",
      "\n",
      "    Water Temperature (°C) Conductance (µS/cm) Turbidity (FNU) pH Level  \\\n",
      "0                   2.2P                474P           76.2P     8.1P     \n",
      "1                   2.2P                496P           65.2P     8.1P     \n",
      "2                   2.2P                535P           82.2P     8.0P     \n",
      "3                   2.2P                596P           84.0P     8.0P     \n",
      "4                   2.2P                574P           66.1P     8.0P     \n",
      "..                     ...                 ...             ...      ...   \n",
      "750                 2.2P                261P           21.3P     8.0P     \n",
      "751                 2.2P                261P           25.0P     8.0P     \n",
      "752                 2.2P                261P           22.9P     8.0P     \n",
      "753                 2.2P                261P           22.2P     8.0P     \n",
      "754                 2.1P                261P           20.7P     8.0P     \n",
      "\n",
      "    Oxygen Saturation (%) Salinity (psu)  \n",
      "0                  100P           0.2P    \n",
      "1                  100P           0.2P    \n",
      "2                  100P           0.3P    \n",
      "3                  100P           0.3P    \n",
      "4                  100P           0.3P    \n",
      "..                    ...            ...  \n",
      "750                 99P           0.1P    \n",
      "751                 99P           0.1P    \n",
      "752                 99P           0.1P    \n",
      "753                 99P           0.1P    \n",
      "754                 99P           0.1P    \n",
      "\n",
      "[755 rows x 9 columns]\n"
     ]
    }
   ],
   "source": [
    "df.columns = ['Date and Time', 'Dissolved Oxygen (mg/L)', 'Elevation (ft)', 'Water Temperature (°C)', 'Conductance (µS/cm)', 'Turbidity (FNU)', 'pH Level', 'Oxygen Saturation (%)', 'Salinity (psu)']\n",
    "print(df)"
   ]
  },
  {
   "cell_type": "markdown",
   "id": "1ab85d14-d991-4234-989c-1316bb843532",
   "metadata": {},
   "source": [
    "##### Format Data Into a More Readable Format"
   ]
  },
  {
   "cell_type": "code",
   "execution_count": 24,
   "id": "71d4b1a7-3477-4fca-8bc6-d513ca24d454",
   "metadata": {},
   "outputs": [
    {
     "name": "stdout",
     "output_type": "stream",
     "text": [
      "   Dissolved Oxygen (mg/L)  Elevation (ft)  Water Temperature (°C)  \\\n",
      "0                     13.8            4.23                     2.2   \n",
      "1                     13.8            4.27                     2.2   \n",
      "2                     13.7            4.39                     2.2   \n",
      "3                     13.7            4.50                     2.2   \n",
      "4                     13.7            4.62                     2.2   \n",
      "\n",
      "   Conductance (µS/cm)  Turbidity (FNU)  pH Level  Oxygen Saturation (%)  \\\n",
      "0                474.0             76.2       8.1                  100.0   \n",
      "1                496.0             65.2       8.1                  100.0   \n",
      "2                535.0             82.2       8.0                  100.0   \n",
      "3                596.0             84.0       8.0                  100.0   \n",
      "4                574.0             66.1       8.0                  100.0   \n",
      "\n",
      "   Salinity (psu)  \n",
      "0             0.2  \n",
      "1             0.2  \n",
      "2             0.3  \n",
      "3             0.3  \n",
      "4             0.3  \n"
     ]
    }
   ],
   "source": [
    "import re\n",
    "\n",
    "# Define a function to clean the numeric values\n",
    "def clean_numeric(value):\n",
    "    if isinstance(value, str):\n",
    "        # Remove all non-numeric characters except the decimal point\n",
    "        cleaned_value = re.sub(r'[^\\d.]+', '', value)\n",
    "        return float(cleaned_value) if cleaned_value else None\n",
    "    return value\n",
    "\n",
    "# List of columns that need to be cleaned\n",
    "columns_to_clean = [\n",
    "    'Dissolved Oxygen (mg/L)', 'Elevation (ft)', 'Water Temperature (°C)',\n",
    "    'Conductance (µS/cm)', 'Turbidity (FNU)', 'pH Level',\n",
    "    'Oxygen Saturation (%)', 'Salinity (psu)'\n",
    "]\n",
    "\n",
    "# Apply the cleaning function to each column\n",
    "for column in columns_to_clean:\n",
    "    df[column] = df[column].apply(clean_numeric)\n",
    "\n",
    "# Check the first few rows of the dataframe to verify the changes\n",
    "print(df[columns_to_clean].head())\n"
   ]
  },
  {
   "cell_type": "markdown",
   "id": "0b02539a-5b22-4bf6-a88b-83be0879d9eb",
   "metadata": {},
   "source": [
    "##### Identify Outliers and Bad Data"
   ]
  },
  {
   "cell_type": "code",
   "execution_count": 26,
   "id": "78bce0ca-9dc1-47b0-993b-8ac379f9e15c",
   "metadata": {},
   "outputs": [
    {
     "name": "stdout",
     "output_type": "stream",
     "text": [
      "Detected outliers:\n",
      "               Date and Time  Dissolved Oxygen (mg/L)  Elevation (ft)  \\\n",
      "0     02/12/2024 00:00   EST                     13.8            4.23   \n",
      "1     02/12/2024 00:15   EST                     13.8            4.27   \n",
      "2     02/12/2024 00:30   EST                     13.7            4.39   \n",
      "3     02/12/2024 00:45   EST                     13.7            4.50   \n",
      "4     02/12/2024 01:00   EST                     13.7            4.62   \n",
      "..                       ...                      ...             ...   \n",
      "394   02/12/2024 16:15   EST                     13.7            0.96   \n",
      "395   02/12/2024 16:30   EST                     13.7            0.72   \n",
      "396   02/12/2024 16:45   EST                     13.7            0.38   \n",
      "397   02/12/2024 17:00   EST                     13.7            0.05   \n",
      "398   02/12/2024 17:15   EST                     13.7            0.28   \n",
      "\n",
      "     Water Temperature (°C)  Conductance (µS/cm)  Turbidity (FNU)  pH Level  \\\n",
      "0                       2.2                474.0             76.2       8.1   \n",
      "1                       2.2                496.0             65.2       8.1   \n",
      "2                       2.2                535.0             82.2       8.0   \n",
      "3                       2.2                596.0             84.0       8.0   \n",
      "4                       2.2                574.0             66.1       8.0   \n",
      "..                      ...                  ...              ...       ...   \n",
      "394                     2.2                763.0             51.7       8.0   \n",
      "395                     2.2                769.0             59.9       8.0   \n",
      "396                     2.3                738.0             51.5       8.0   \n",
      "397                     2.2                809.0             50.2       8.0   \n",
      "398                     2.2                804.0             50.7       8.0   \n",
      "\n",
      "     Oxygen Saturation (%)  Salinity (psu)               Outlier_In  \n",
      "0                    100.0             0.2  Dissolved Oxygen (mg/L)  \n",
      "1                    100.0             0.2  Dissolved Oxygen (mg/L)  \n",
      "2                    100.0             0.3  Dissolved Oxygen (mg/L)  \n",
      "3                    100.0             0.3  Dissolved Oxygen (mg/L)  \n",
      "4                    100.0             0.3  Dissolved Oxygen (mg/L)  \n",
      "..                     ...             ...                      ...  \n",
      "394                  100.0             0.4           Salinity (psu)  \n",
      "395                  100.0             0.4           Salinity (psu)  \n",
      "396                  100.0             0.4           Salinity (psu)  \n",
      "397                  100.0             0.4           Salinity (psu)  \n",
      "398                  100.0             0.4           Salinity (psu)  \n",
      "\n",
      "[399 rows x 10 columns]\n"
     ]
    }
   ],
   "source": [
    "# Define a function to detect outliers in a column\n",
    "def detect_outliers(df, column):\n",
    "    Q1 = df[column].quantile(0.25)\n",
    "    Q3 = df[column].quantile(0.75)\n",
    "    IQR = Q3 - Q1\n",
    "    lower_bound = Q1 - 1.5 * IQR\n",
    "    upper_bound = Q3 + 1.5 * IQR\n",
    "    return df[(df[column] < lower_bound) | (df[column] > upper_bound)].copy()\n",
    "\n",
    "# List of numerical columns to check for outliers\n",
    "numerical_columns = [\n",
    "    'Dissolved Oxygen (mg/L)', 'Elevation (ft)', 'Water Temperature (°C)',\n",
    "    'Conductance (µS/cm)', 'Turbidity (FNU)', 'pH Level',\n",
    "    'Oxygen Saturation (%)', 'Salinity (psu)'\n",
    "]\n",
    "\n",
    "# Create an empty DataFrame to store outliers\n",
    "outliers_df = pd.DataFrame()\n",
    "\n",
    "# Loop through each numerical column to detect outliers\n",
    "for column in numerical_columns:\n",
    "    current_outliers = detect_outliers(df, column)\n",
    "    # Add a column to distinguish outliers from different features\n",
    "    current_outliers['Outlier_In'] = column\n",
    "    # Append to the outliers DataFrame\n",
    "    outliers_df = pd.concat([outliers_df, current_outliers], ignore_index=True)\n",
    "\n",
    "# Display the outliers DataFrame\n",
    "print(\"Detected outliers:\")\n",
    "print(outliers_df)\n"
   ]
  },
  {
   "cell_type": "markdown",
   "id": "aae1256b-813b-470d-90e2-44c8dd6d1887",
   "metadata": {},
   "source": [
    "##### Find Duplicates"
   ]
  },
  {
   "cell_type": "code",
   "execution_count": 27,
   "id": "aed2e6d2-fa8c-415d-89ea-8b7b5cd8dbb0",
   "metadata": {},
   "outputs": [
    {
     "name": "stdout",
     "output_type": "stream",
     "text": [
      "Duplicate rows:\n",
      "Empty DataFrame\n",
      "Columns: [Date and Time, Dissolved Oxygen (mg/L), Elevation (ft), Water Temperature (°C), Conductance (µS/cm), Turbidity (FNU), pH Level, Oxygen Saturation (%), Salinity (psu)]\n",
      "Index: []\n",
      "DataFrame shape after removing duplicates: (755, 9)\n"
     ]
    }
   ],
   "source": [
    "# Find and display any duplicate rows\n",
    "duplicate_rows = df[df.duplicated()]\n",
    "print(\"Duplicate rows:\")\n",
    "print(duplicate_rows)\n",
    "\n",
    "# Remove the duplicate rows\n",
    "df = df.drop_duplicates()\n",
    "\n",
    "# Reset the index of the DataFrame after removing duplicates\n",
    "df.reset_index(drop=True, inplace=True)\n",
    "\n",
    "# Display the shape of the DataFrame after duplicates have been removed\n",
    "print(f\"DataFrame shape after removing duplicates: {df.shape}\")\n"
   ]
  },
  {
   "cell_type": "markdown",
   "id": "8b61a9e7-2e5e-4eb6-be3d-9ee33056eb53",
   "metadata": {},
   "source": [
    "No duplicates found."
   ]
  },
  {
   "cell_type": "markdown",
   "id": "3ea44c67-b6da-4031-8910-6eac14eb161a",
   "metadata": {},
   "source": [
    "##### Add Data"
   ]
  },
  {
   "cell_type": "code",
   "execution_count": 28,
   "id": "bcbda57f-9770-4063-bbf9-ae73f361bde6",
   "metadata": {},
   "outputs": [
    {
     "name": "stdout",
     "output_type": "stream",
     "text": [
      "   Dissolved Oxygen (mg/L)  Contamination_Flag\n",
      "0                     13.8                   0\n",
      "1                     13.8                   0\n",
      "2                     13.7                   0\n",
      "3                     13.7                   0\n",
      "4                     13.7                   0\n"
     ]
    }
   ],
   "source": [
    "# Define a threshold for Dissolved Oxygen below which the water is considered contaminated\n",
    "contamination_threshold = 5  \n",
    "\n",
    "# Add a new column 'Contamination_Flag' where 1 indicates contamination and 0 indicates no contamination\n",
    "df['Contamination_Flag'] = (df['Dissolved Oxygen (mg/L)'] < contamination_threshold).astype(int)\n",
    "\n",
    "# Verify the new column\n",
    "print(df[['Dissolved Oxygen (mg/L)', 'Contamination_Flag']].head())\n"
   ]
  }
 ],
 "metadata": {
  "kernelspec": {
   "display_name": "Python 3 (ipykernel)",
   "language": "python",
   "name": "python3"
  },
  "language_info": {
   "codemirror_mode": {
    "name": "ipython",
    "version": 3
   },
   "file_extension": ".py",
   "mimetype": "text/x-python",
   "name": "python",
   "nbconvert_exporter": "python",
   "pygments_lexer": "ipython3",
   "version": "3.9.18"
  }
 },
 "nbformat": 4,
 "nbformat_minor": 5
}
