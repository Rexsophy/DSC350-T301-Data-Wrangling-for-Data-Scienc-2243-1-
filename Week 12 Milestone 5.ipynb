{
 "cells": [
  {
   "cell_type": "markdown",
   "id": "5f9522e9-7944-4204-8f56-f3e466f35a5c",
   "metadata": {},
   "source": [
    "#### Rex Gayas DSC350-T301 Data Wrangling for Data Scienc (2243-1)\n",
    "#### Term Project Milestone 5 02 MAR 2024"
   ]
  },
  {
   "cell_type": "code",
   "execution_count": 51,
   "id": "939eb27a-759d-4b57-bd3e-72195e80c009",
   "metadata": {},
   "outputs": [
    {
     "name": "stdout",
     "output_type": "stream",
     "text": [
      "   Unique ID  Indicator ID                  Name Measure Measure Info  \\\n",
      "0     216498           386            Ozone (O3)    Mean          ppb   \n",
      "1     216499           386            Ozone (O3)    Mean          ppb   \n",
      "2     219969           386            Ozone (O3)    Mean          ppb   \n",
      "3     219970           386            Ozone (O3)    Mean          ppb   \n",
      "4     164876           383  Sulfur Dioxide (SO2)    Mean          ppb   \n",
      "\n",
      "  Geo Type Name  Geo Join ID                    Geo Place Name  \\\n",
      "0            CD          313               Coney Island (CD13)   \n",
      "1            CD          313               Coney Island (CD13)   \n",
      "2       Borough            1                             Bronx   \n",
      "3       Borough            1                             Bronx   \n",
      "4            CD          211  Morris Park and Bronxdale (CD11)   \n",
      "\n",
      "      Time Period  Start Date  Data Value  Message  \n",
      "0     Summer 2013  06/01/2013       34.64      NaN  \n",
      "1     Summer 2014  06/01/2014       33.22      NaN  \n",
      "2     Summer 2013  06/01/2013       31.25      NaN  \n",
      "3     Summer 2014  06/01/2014       31.15      NaN  \n",
      "4  Winter 2008-09  12/01/2008        5.89      NaN  \n"
     ]
    }
   ],
   "source": [
    "import pandas as pd\n",
    "\n",
    "# Load the dataset \n",
    "df_air = pd.read_csv(r\"D:\\ALPHA\\Dynamic Folder\\Bellevue\\Winter 2023\\Data Wrangling\\Project\\Datasets\\Air_Quality.csv\")\n",
    "\n",
    "# Name new headers\n",
    "new_headers = [\n",
    "    'Unique ID', 'Indicator ID', 'Name', 'Measure', \n",
    "    'Measure Info', 'Geo Type Name', 'Geo Join ID', \n",
    "    'Geo Place Name', 'Time Period', 'Start Date', \n",
    "    'Data Value', 'Message'\n",
    "]\n",
    "\n",
    "# Replace headers\n",
    "df_air.columns = new_headers\n",
    "\n",
    "# Display DataFrame to check the new headers\n",
    "print(df_air.head())\n"
   ]
  },
  {
   "cell_type": "code",
   "execution_count": 52,
   "id": "367791e5-4c45-4062-b116-27a27f0e7e02",
   "metadata": {},
   "outputs": [
    {
     "name": "stdout",
     "output_type": "stream",
     "text": [
      "   Unique ID  Indicator ID                  Name Measure Measure Info  \\\n",
      "0     216498           386            Ozone (O3)    Mean          ppb   \n",
      "1     216499           386            Ozone (O3)    Mean          ppb   \n",
      "2     219969           386            Ozone (O3)    Mean          ppb   \n",
      "3     219970           386            Ozone (O3)    Mean          ppb   \n",
      "4     164876           383  Sulfur Dioxide (SO2)    Mean          ppb   \n",
      "\n",
      "  Geo Type Name  Geo Join ID                    Geo Place Name  \\\n",
      "0            CD          313               Coney Island (CD13)   \n",
      "1            CD          313               Coney Island (CD13)   \n",
      "2       Borough            1                             Bronx   \n",
      "3       Borough            1                             Bronx   \n",
      "4            CD          211  Morris Park and Bronxdale (CD11)   \n",
      "\n",
      "      Time Period  Start_Date  Data Value  Message  \n",
      "0     Summer 2013  2013-06-01       34.64      NaN  \n",
      "1     Summer 2014  2014-06-01       33.22      NaN  \n",
      "2     Summer 2013  2013-06-01       31.25      NaN  \n",
      "3     Summer 2014  2014-06-01       31.15      NaN  \n",
      "4  Winter 2008-09  2008-12-01        5.89      NaN  \n"
     ]
    }
   ],
   "source": [
    "import pandas as pd\n",
    "\n",
    "# Load the dataset \n",
    "df_air = pd.read_csv(r\"D:\\ALPHA\\Dynamic Folder\\Bellevue\\Winter 2023\\Data Wrangling\\Project\\Datasets\\Air_Quality.csv\")\n",
    "\n",
    "# Format 'Start_Date' to standard date format 'Year-Month-Day'\n",
    "df_air['Start_Date'] = pd.to_datetime(df_air['Start_Date'], errors='coerce').dt.strftime('%Y-%m-%d')\n",
    "\n",
    "# Check first few rows to verify \n",
    "print(df_air.head())\n"
   ]
  },
  {
   "cell_type": "code",
   "execution_count": 53,
   "id": "de0424f6-6fbd-4ea0-8e1b-d2296a482e60",
   "metadata": {},
   "outputs": [
    {
     "name": "stdout",
     "output_type": "stream",
     "text": [
      "0    2013-06-01\n",
      "1    2014-06-01\n",
      "2    2013-06-01\n",
      "3    2014-06-01\n",
      "4    2008-12-01\n",
      "Name: Start_Date, dtype: object\n"
     ]
    }
   ],
   "source": [
    "# Show the correct column name from the output of df.columns\n",
    "df_air['Start_Date'] = pd.to_datetime(df_air['Start_Date'], errors='coerce').dt.strftime('%Y-%m-%d')\n",
    "\n",
    "# Verify the change\n",
    "print(df_air['Start_Date'].head())\n"
   ]
  },
  {
   "cell_type": "code",
   "execution_count": 54,
   "id": "2fba617d-4be2-4004-9ae9-0e678426af65",
   "metadata": {},
   "outputs": [
    {
     "name": "stdout",
     "output_type": "stream",
     "text": [
      "Outliers:\n",
      "       Unique ID  Indicator ID  \\\n",
      "22        130355           639   \n",
      "23        130356           639   \n",
      "24        130357           639   \n",
      "25        130358           639   \n",
      "26        130359           639   \n",
      "...          ...           ...   \n",
      "13994     628936           659   \n",
      "13995     628937           659   \n",
      "14012     628954           659   \n",
      "14013     628955           659   \n",
      "14014     628956           659   \n",
      "\n",
      "                                                    Name  \\\n",
      "22                             PM2.5-Attributable Deaths   \n",
      "23                             PM2.5-Attributable Deaths   \n",
      "24                             PM2.5-Attributable Deaths   \n",
      "25                             PM2.5-Attributable Deaths   \n",
      "26                             PM2.5-Attributable Deaths   \n",
      "...                                                  ...   \n",
      "13994  O3-Attributable Asthma Emergency Department Vi...   \n",
      "13995  O3-Attributable Asthma Emergency Department Vi...   \n",
      "14012  O3-Attributable Asthma Emergency Department Vi...   \n",
      "14013  O3-Attributable Asthma Emergency Department Vi...   \n",
      "14014  O3-Attributable Asthma Emergency Department Vi...   \n",
      "\n",
      "                                               Measure        Measure Info  \\\n",
      "22     Estimated Annual Rate - Adults 30 Yrs and Older  per 100,000 adults   \n",
      "23     Estimated Annual Rate - Adults 30 Yrs and Older  per 100,000 adults   \n",
      "24     Estimated Annual Rate - Adults 30 Yrs and Older  per 100,000 adults   \n",
      "25     Estimated Annual Rate - Adults 30 Yrs and Older  per 100,000 adults   \n",
      "26     Estimated Annual Rate - Adults 30 Yrs and Older  per 100,000 adults   \n",
      "...                                                ...                 ...   \n",
      "13994          Estimated Annual Rate- 18 Yrs and Older  per 100,000 adults   \n",
      "13995          Estimated Annual Rate- 18 Yrs and Older  per 100,000 adults   \n",
      "14012          Estimated Annual Rate- 18 Yrs and Older  per 100,000 adults   \n",
      "14013          Estimated Annual Rate- 18 Yrs and Older  per 100,000 adults   \n",
      "14014          Estimated Annual Rate- 18 Yrs and Older  per 100,000 adults   \n",
      "\n",
      "      Geo Type Name  Geo Join ID                        Geo Place Name  \\\n",
      "22            UHF42          101               Kingsbridge - Riverdale   \n",
      "23            UHF42          102                       Northeast Bronx   \n",
      "24            UHF42          103                    Fordham - Bronx Pk   \n",
      "25            UHF42          104                  Pelham - Throgs Neck   \n",
      "26            UHF42          105                      Crotona -Tremont   \n",
      "...             ...          ...                                   ...   \n",
      "13994         UHF42          302  Central Harlem - Morningside Heights   \n",
      "13995         UHF42          303                           East Harlem   \n",
      "14012         UHF42          410                             Rockaways   \n",
      "14013         UHF42          501                         Port Richmond   \n",
      "14014         UHF42          502                Stapleton - St. George   \n",
      "\n",
      "      Time Period  Start_Date  Data Value  Message  \n",
      "22      2005-2007  2005-01-01       117.7      NaN  \n",
      "23      2005-2007  2005-01-01        77.3      NaN  \n",
      "24      2005-2007  2005-01-01        67.3      NaN  \n",
      "25      2005-2007  2005-01-01        73.6      NaN  \n",
      "26      2005-2007  2005-01-01        65.8      NaN  \n",
      "...           ...         ...         ...      ...  \n",
      "13994   2015-2017  2015-01-01       121.4      NaN  \n",
      "13995   2015-2017  2015-01-01       141.5      NaN  \n",
      "14012   2015-2017  2015-01-01        63.0      NaN  \n",
      "14013   2015-2017  2015-01-01        74.6      NaN  \n",
      "14014   2015-2017  2015-01-01        53.8      NaN  \n",
      "\n",
      "[531 rows x 12 columns]\n"
     ]
    }
   ],
   "source": [
    "# Select 'Data Value' as the numeric column to find outliers\n",
    "Q1 = df_air['Data Value'].quantile(0.25)\n",
    "Q3 = df_air['Data Value'].quantile(0.75)\n",
    "IQR = Q3 - Q1\n",
    "\n",
    "# Define bounds for outliers\n",
    "lower_bound = Q1 - 1.5 * IQR\n",
    "upper_bound = Q3 + 1.5 * IQR\n",
    "\n",
    "# Filter out outliers\n",
    "outliers_df_air = df_air[(df_air['Data Value'] < lower_bound) | (df_air['Data Value'] > upper_bound)]\n",
    "non_outliers_df_air = df_air[(df_air['Data Value'] >= lower_bound) & (df_air['Data Value'] <= upper_bound)]\n",
    "\n",
    "# Display outliers\n",
    "print(\"Outliers:\")\n",
    "print(outliers_df_air)"
   ]
  },
  {
   "cell_type": "code",
   "execution_count": 55,
   "id": "1b837e18-dce4-4280-8ea2-eea1baa6e6c5",
   "metadata": {},
   "outputs": [
    {
     "name": "stdout",
     "output_type": "stream",
     "text": [
      "Duplicate Rows:\n",
      "Empty DataFrame\n",
      "Columns: [Unique ID, Indicator ID, Name, Measure, Measure Info, Geo Type Name, Geo Join ID, Geo Place Name, Time Period, Start_Date, Data Value, Message]\n",
      "Index: []\n",
      "DataFrame shape after removing duplicates: (16122, 12)\n"
     ]
    }
   ],
   "source": [
    "# Identify duplicates based on all columns\n",
    "duplicates = df_air[df_air.duplicated()]\n",
    "\n",
    "# Display the duplicates\n",
    "print(\"Duplicate Rows:\")\n",
    "print(duplicates)\n",
    "\n",
    "# Remove duplicates while keeping first occurrence\n",
    "df_air = df_air.drop_duplicates()\n",
    "\n",
    "# Verify removal of duplicates by checking shape of the DataFrame\n",
    "print(\"DataFrame shape after removing duplicates:\", df_air.shape)"
   ]
  },
  {
   "cell_type": "code",
   "execution_count": 56,
   "id": "e0c8ada8-ab2a-4640-b5f2-86facb2b37e6",
   "metadata": {},
   "outputs": [
    {
     "name": "stdout",
     "output_type": "stream",
     "text": [
      "Index(['Unique ID', 'Indicator ID', 'Name', 'Measure', 'Measure Info',\n",
      "       'Geo Type Name', 'Geo Join ID', 'Geo Place Name', 'Time Period',\n",
      "       'Start_Date', 'Data Value', 'Message'],\n",
      "      dtype='object')\n",
      "                   Name Measure\n",
      "0            ozone (o3)    mean\n",
      "1            ozone (o3)    mean\n",
      "2            ozone (o3)    mean\n",
      "3            ozone (o3)    mean\n",
      "4  sulfur dioxide (so2)    mean\n"
     ]
    }
   ],
   "source": [
    "# Verify column names\n",
    "print(df_air.columns)\n",
    "\n",
    "# Convert the 'Name' column to lowercase for consistency\n",
    "df_air['Name'] = df_air['Name'].str.lower()\n",
    "\n",
    "# Convert the 'Measure' column to lowercase for consistency\n",
    "df_air['Measure'] = df_air['Measure'].str.lower()\n",
    "\n",
    "# Display changes to verify\n",
    "print(df_air[['Name', 'Measure']].head())\n",
    "\n"
   ]
  },
  {
   "cell_type": "code",
   "execution_count": 57,
   "id": "bdb3db94-6021-4b45-ba4f-251169743109",
   "metadata": {},
   "outputs": [
    {
     "name": "stdout",
     "output_type": "stream",
     "text": [
      "Geo Place Name\n",
      "Staten Island    6230\n",
      "Queens           3850\n",
      "Bronx            3694\n",
      "Manhattan        1366\n",
      "Brooklyn          982\n",
      "Name: count, dtype: int64\n"
     ]
    }
   ],
   "source": [
    "from fuzzywuzzy import process\n",
    "\n",
    "# Function replacing each entry with the closest match from a list of desired terms\n",
    "def replace_with_closest_match(entry, choices_list):\n",
    "    # If the entry is NaN (missing), don't match it just return\n",
    "    if pd.isna(entry):\n",
    "        return entry\n",
    "    # Otherwise, find the closest match and return\n",
    "    closest_match = process.extractOne(entry, choices_list)\n",
    "    return closest_match[0]\n",
    "\n",
    "# List of standardized terms expected in the 'Geo Place Name' column\n",
    "standard_terms = ['Manhattan', 'Queens', 'Brooklyn', 'Bronx', 'Staten Island']\n",
    "\n",
    "# Fuzzy matching function applied to the 'Geo Place Name' column\n",
    "df_air['Geo Place Name'] = df_air['Geo Place Name'].apply(lambda x: replace_with_closest_match(x, standard_terms))\n",
    "\n",
    "# Display the changes to verify\n",
    "print(df_air['Geo Place Name'].value_counts())\n"
   ]
  },
  {
   "cell_type": "code",
   "execution_count": 58,
   "id": "32ad83e3-fdc8-4b98-ac85-71193724da63",
   "metadata": {},
   "outputs": [
    {
     "name": "stdout",
     "output_type": "stream",
     "text": [
      "   Data Value Pollutant Level Category\n",
      "0       34.64                     Good\n",
      "1       33.22                     Good\n",
      "2       31.25                     Good\n",
      "3       31.15                     Good\n",
      "4        5.89                     Good\n"
     ]
    }
   ],
   "source": [
    "# Add new column 'Pollutant Level Category' based on 'Data Value'\n",
    "# Function to categorize pollutant levels\n",
    "def categorize_pollutant_level(value):\n",
    "    if pd.isna(value):\n",
    "        return 'Unknown'  # Handling possible NaN values\n",
    "    elif value < 50:\n",
    "        return 'Good'\n",
    "    elif value < 100:\n",
    "        return 'Moderate'\n",
    "    elif value < 150:\n",
    "        return 'Unhealthy for Sensitive Groups'\n",
    "    elif value < 200:\n",
    "        return 'Unhealthy'\n",
    "    elif value < 300:\n",
    "        return 'Very Unhealthy'\n",
    "    else:\n",
    "        return 'Hazardous'\n",
    "\n",
    "# Function applied to 'Data Value' column to create new category column\n",
    "df_air['Pollutant Level Category'] = df_air['Data Value'].apply(categorize_pollutant_level)\n",
    "\n",
    "# Display the new column to verify\n",
    "print(df_air[['Data Value', 'Pollutant Level Category']].head())\n"
   ]
  },
  {
   "cell_type": "markdown",
   "id": "4bf23d5e-df3e-48c6-b68f-73378f6d9737",
   "metadata": {},
   "source": [
    "##### API"
   ]
  },
  {
   "cell_type": "code",
   "execution_count": 59,
   "id": "8b5191d6-ea31-495b-a1a0-5b57d7397933",
   "metadata": {},
   "outputs": [
    {
     "name": "stdout",
     "output_type": "stream",
     "text": [
      "Data fetched successfully!\n",
      "City: New York, AQI: 57\n"
     ]
    }
   ],
   "source": [
    "import requests\n",
    "\n",
    "# Define the API endpoint with New York as the city\n",
    "api_url = \"https://api.waqi.info/feed/newyork/?token=95481362141897eac4f8263ff574654eccfed309\"\n",
    "\n",
    "# Make a GET request to fetch the data\n",
    "response = requests.get(api_url)\n",
    "\n",
    "# Parse the JSON response\n",
    "data = response.json()\n",
    "\n",
    "# Check the status of the request\n",
    "if data['status'] == 'ok':\n",
    "    print(\"Data fetched successfully!\")\n",
    "    # Print a summary of the data\n",
    "    city = data['data']['city']['name']\n",
    "    aqi = data['data']['aqi']\n",
    "    print(f\"City: {city}, AQI: {aqi}\")\n",
    "else:\n",
    "    print(\"Failed to fetch data\")"
   ]
  },
  {
   "cell_type": "code",
   "execution_count": 60,
   "id": "2cfd22a6-f3f6-4b1a-8e24-ef6e76d2bd6f",
   "metadata": {},
   "outputs": [
    {
     "name": "stdout",
     "output_type": "stream",
     "text": [
      "                     DateTime  AirQualityIndex      City\n",
      "0  2024-02-25 11:38:04.503679               25  New York\n",
      "1  2024-02-25 23:38:04.503679              148  New York\n",
      "2  2024-02-26 11:38:04.503679               18  New York\n",
      "3  2024-02-26 23:38:04.503679              103  New York\n",
      "4  2024-02-27 11:38:04.503679               44  New York\n",
      "5  2024-02-27 23:38:04.503679               71  New York\n",
      "6  2024-02-28 11:38:04.503679              100  New York\n",
      "7  2024-02-28 23:38:04.503679               48  New York\n",
      "8  2024-02-29 11:38:04.503679               76  New York\n",
      "9  2024-02-29 23:38:04.503679               18  New York\n",
      "10 2024-03-01 11:38:04.503679              131  New York\n",
      "11 2024-03-01 23:38:04.503679               32  New York\n",
      "12 2024-03-02 11:38:04.503679               78  New York\n",
      "13 2024-03-02 23:38:04.503679               75  New York\n"
     ]
    }
   ],
   "source": [
    "import pandas as pd\n",
    "import numpy as np\n",
    "from datetime import datetime, timedelta\n",
    "\n",
    "# Simulate data retrieval over the past week, with two data points per day\n",
    "dates = pd.date_range(end=datetime.now(), periods=14, freq='12H')\n",
    "aqi_values = np.random.choice(range(10, 150), size=14)  # Simulated AQI values within a broad range\n",
    "cities = [\"New York\"] * 14  # Simulating data for New York\n",
    "\n",
    "# Create a DataFrame with the simulated data\n",
    "df_api = pd.DataFrame({\n",
    "    'DateTime': dates,\n",
    "    'AirQualityIndex': aqi_values,\n",
    "    'City': cities\n",
    "})\n",
    "print(df_api)"
   ]
  },
  {
   "cell_type": "code",
   "execution_count": 61,
   "id": "6a9dd7f6-909c-4175-81b6-cf15083e6651",
   "metadata": {},
   "outputs": [
    {
     "name": "stdout",
     "output_type": "stream",
     "text": [
      "                      DateTime  AirQualityIndex      City\n",
      "0   2024-02-25 11:38:04.503679               25  New York\n",
      "1   2024-02-25 23:38:04.503679              148  New York\n",
      "2   2024-02-26 11:38:04.503679               18  New York\n",
      "3   2024-02-26 23:38:04.503679              103  New York\n",
      "4   2024-02-27 11:38:04.503679               44  New York\n",
      "5   2024-02-27 23:38:04.503679              -20  New York\n",
      "6   2024-02-28 11:38:04.503679              100  New York\n",
      "7   2024-02-28 23:38:04.503679               48  new york\n",
      "8          2024-25-02 12:00:00               76  New York\n",
      "9   2024-02-29 23:38:04.503679               18  New York\n",
      "10  2024-03-01 11:38:04.503679              131  New York\n",
      "11  2024-03-01 23:38:04.503679               32  New York\n",
      "12  2024-03-02 11:38:04.503679               78  New York\n",
      "13  2024-03-02 23:38:04.503679               75  New York\n"
     ]
    },
    {
     "name": "stderr",
     "output_type": "stream",
     "text": [
      "C:\\Users\\RexAr\\AppData\\Local\\Temp\\ipykernel_17268\\2606197798.py:4: FutureWarning: Setting an item of incompatible dtype is deprecated and will raise in a future error of pandas. Value '2024-25-02 12:00:00' has dtype incompatible with datetime64[ns], please explicitly cast to a compatible dtype first.\n",
      "  df_api.loc[8, 'DateTime'] = \"2024-25-02 12:00:00\"  # Impossible date, to be cleaned later\n"
     ]
    }
   ],
   "source": [
    "# Introduce some simulated errors/inconsistencies in the data\n",
    "df_api.loc[5, 'AirQualityIndex'] = -20  # Impossible negative AQI value\n",
    "df_api.loc[7, 'City'] = \"new york\"  # Inconsistent casing\n",
    "df_api.loc[8, 'DateTime'] = \"2024-25-02 12:00:00\"  # Impossible date, to be cleaned later\n",
    "print(df_api)"
   ]
  },
  {
   "cell_type": "code",
   "execution_count": 62,
   "id": "7c8de727-6944-4097-ab46-e634507719c6",
   "metadata": {},
   "outputs": [
    {
     "name": "stdout",
     "output_type": "stream",
     "text": [
      "                SampleDateTime  AQI_Value  Location\n",
      "0   2024-02-25 11:38:04.503679         25  New York\n",
      "1   2024-02-25 23:38:04.503679        148  New York\n",
      "2   2024-02-26 11:38:04.503679         18  New York\n",
      "3   2024-02-26 23:38:04.503679        103  New York\n",
      "4   2024-02-27 11:38:04.503679         44  New York\n",
      "5   2024-02-27 23:38:04.503679        -20  New York\n",
      "6   2024-02-28 11:38:04.503679        100  New York\n",
      "7   2024-02-28 23:38:04.503679         48  new york\n",
      "8          2024-25-02 12:00:00         76  New York\n",
      "9   2024-02-29 23:38:04.503679         18  New York\n",
      "10  2024-03-01 11:38:04.503679        131  New York\n",
      "11  2024-03-01 23:38:04.503679         32  New York\n",
      "12  2024-03-02 11:38:04.503679         78  New York\n",
      "13  2024-03-02 23:38:04.503679         75  New York\n"
     ]
    }
   ],
   "source": [
    "# Replace Headers\n",
    "df_api.columns = ['SampleDateTime', 'AQI_Value', 'Location']\n",
    "print(df_api)"
   ]
  },
  {
   "cell_type": "code",
   "execution_count": 63,
   "id": "e5f3d745-2a7c-4801-b642-ee0b64272b61",
   "metadata": {},
   "outputs": [
    {
     "name": "stdout",
     "output_type": "stream",
     "text": [
      "               SampleDateTime  AQI_Value  Location\n",
      "0  2024-02-25 11:38:04.503679         25  New York\n",
      "1  2024-02-25 23:38:04.503679        148  New York\n",
      "2  2024-02-26 11:38:04.503679         18  New York\n",
      "3  2024-02-26 23:38:04.503679        103  New York\n",
      "4  2024-02-27 11:38:04.503679         44  New York\n",
      "5  2024-02-27 23:38:04.503679        -20  New York\n",
      "6  2024-02-28 11:38:04.503679        100  New York\n",
      "7  2024-02-28 23:38:04.503679         48  new york\n",
      "8                         NaT         76  New York\n",
      "9  2024-02-29 23:38:04.503679         18  New York\n",
      "10 2024-03-01 11:38:04.503679        131  New York\n",
      "11 2024-03-01 23:38:04.503679         32  New York\n",
      "12 2024-03-02 11:38:04.503679         78  New York\n",
      "13 2024-03-02 23:38:04.503679         75  New York\n"
     ]
    }
   ],
   "source": [
    "# Correct the DateTime format and convert all entries to actual datetime objects\n",
    "df_api['SampleDateTime'] = pd.to_datetime(df_api['SampleDateTime'], errors='coerce')  # This will convert errors to NaT\n",
    "\n",
    "# Make sure the AQI_Value column is numeric and handle any non-numeric entries by converting them to NaN\n",
    "df_api['AQI_Value'] = pd.to_numeric(df_api['AQI_Value'], errors='coerce')\n",
    "print(df_api)"
   ]
  },
  {
   "cell_type": "code",
   "execution_count": 64,
   "id": "f2ff4e0c-4ff9-4e24-9091-7337c7139ec3",
   "metadata": {},
   "outputs": [
    {
     "name": "stdout",
     "output_type": "stream",
     "text": [
      "               SampleDateTime  AQI_Value  Location\n",
      "0  2024-02-25 11:38:04.503679         25  New York\n",
      "1  2024-02-25 23:38:04.503679        148  New York\n",
      "2  2024-02-26 11:38:04.503679         18  New York\n",
      "3  2024-02-26 23:38:04.503679        103  New York\n",
      "4  2024-02-27 11:38:04.503679         44  New York\n",
      "6  2024-02-28 11:38:04.503679        100  New York\n",
      "7  2024-02-28 23:38:04.503679         48  new york\n",
      "8                         NaT         76  New York\n",
      "9  2024-02-29 23:38:04.503679         18  New York\n",
      "10 2024-03-01 11:38:04.503679        131  New York\n",
      "11 2024-03-01 23:38:04.503679         32  New York\n",
      "12 2024-03-02 11:38:04.503679         78  New York\n",
      "13 2024-03-02 23:38:04.503679         75  New York\n"
     ]
    }
   ],
   "source": [
    "# Remove rows with negative AQI values which are considered bad data\n",
    "df_api = df_api[df_api['AQI_Value'] >= 0]\n",
    "print(df_api)"
   ]
  },
  {
   "cell_type": "code",
   "execution_count": 65,
   "id": "8b8a8881-1d47-4b1d-b025-ab742fa43c2d",
   "metadata": {},
   "outputs": [
    {
     "name": "stdout",
     "output_type": "stream",
     "text": [
      "               SampleDateTime  AQI_Value  Location\n",
      "0  2024-02-25 11:38:04.503679         25  New York\n",
      "1  2024-02-25 23:38:04.503679        148  New York\n",
      "2  2024-02-26 11:38:04.503679         18  New York\n",
      "3  2024-02-26 23:38:04.503679        103  New York\n",
      "4  2024-02-27 11:38:04.503679         44  New York\n",
      "6  2024-02-28 11:38:04.503679        100  New York\n",
      "7  2024-02-28 23:38:04.503679         48  new york\n",
      "8                         NaT         76  New York\n",
      "9  2024-02-29 23:38:04.503679         18  New York\n",
      "10 2024-03-01 11:38:04.503679        131  New York\n",
      "11 2024-03-01 23:38:04.503679         32  New York\n",
      "12 2024-03-02 11:38:04.503679         78  New York\n",
      "13 2024-03-02 23:38:04.503679         75  New York\n"
     ]
    }
   ],
   "source": [
    "df_api.drop_duplicates(inplace=True)\n",
    "print(df_api)"
   ]
  },
  {
   "cell_type": "code",
   "execution_count": 66,
   "id": "130492ae-d27b-4dfc-9ed4-0f2d44ac7403",
   "metadata": {},
   "outputs": [
    {
     "name": "stdout",
     "output_type": "stream",
     "text": [
      "               SampleDateTime  AQI_Value  Location\n",
      "0  2024-02-25 11:38:04.503679         25  New York\n",
      "1  2024-02-25 23:38:04.503679        148  New York\n",
      "2  2024-02-26 11:38:04.503679         18  New York\n",
      "3  2024-02-26 23:38:04.503679        103  New York\n",
      "4  2024-02-27 11:38:04.503679         44  New York\n",
      "6  2024-02-28 11:38:04.503679        100  New York\n",
      "7  2024-02-28 23:38:04.503679         48  New York\n",
      "8                         NaT         76  New York\n",
      "9  2024-02-29 23:38:04.503679         18  New York\n",
      "10 2024-03-01 11:38:04.503679        131  New York\n",
      "11 2024-03-01 23:38:04.503679         32  New York\n",
      "12 2024-03-02 11:38:04.503679         78  New York\n",
      "13 2024-03-02 23:38:04.503679         75  New York\n"
     ]
    }
   ],
   "source": [
    "df_api['Location'] = df_api['Location'].str.title()  # Convert city names to title case\n",
    "print(df_api)"
   ]
  },
  {
   "cell_type": "code",
   "execution_count": 67,
   "id": "21228a84-f3d4-4dc5-9fe3-00b21cd0dd6d",
   "metadata": {},
   "outputs": [
    {
     "name": "stdout",
     "output_type": "stream",
     "text": [
      "               SampleDateTime  AQI_Value  Location\n",
      "0  2024-02-25 11:38:04.503679         25  New York\n",
      "1  2024-02-25 23:38:04.503679        148  New York\n",
      "2  2024-02-26 11:38:04.503679         18  New York\n",
      "3  2024-02-26 23:38:04.503679        103  New York\n",
      "4  2024-02-27 11:38:04.503679         44  New York\n",
      "6  2024-02-28 11:38:04.503679        100  New York\n",
      "7  2024-02-28 23:38:04.503679         48  New York\n",
      "8                         NaT         76  New York\n",
      "9  2024-02-29 23:38:04.503679         18  New York\n",
      "10 2024-03-01 11:38:04.503679        131  New York\n",
      "11 2024-03-01 23:38:04.503679         32  New York\n",
      "12 2024-03-02 11:38:04.503679         78  New York\n",
      "13 2024-03-02 23:38:04.503679         75  New York\n"
     ]
    }
   ],
   "source": [
    "from fuzzywuzzy import process\n",
    "\n",
    "cities = [\"New York\", \"Los Angeles\", \"Chicago\"]\n",
    "df_api['Location'] = df_api['Location'].apply(lambda x: process.extractOne(x, cities)[0])\n",
    "print(df_api)"
   ]
  },
  {
   "cell_type": "code",
   "execution_count": 68,
   "id": "29d86248-8615-4889-8bc8-7d45a806411e",
   "metadata": {},
   "outputs": [
    {
     "name": "stdout",
     "output_type": "stream",
     "text": [
      "               SampleDateTime  AQI_Value  Location  \\\n",
      "0  2024-02-25 11:38:04.503679         25  New York   \n",
      "1  2024-02-25 23:38:04.503679        148  New York   \n",
      "2  2024-02-26 11:38:04.503679         18  New York   \n",
      "3  2024-02-26 23:38:04.503679        103  New York   \n",
      "4  2024-02-27 11:38:04.503679         44  New York   \n",
      "6  2024-02-28 11:38:04.503679        100  New York   \n",
      "7  2024-02-28 23:38:04.503679         48  New York   \n",
      "8                         NaT         76  New York   \n",
      "9  2024-02-29 23:38:04.503679         18  New York   \n",
      "10 2024-03-01 11:38:04.503679        131  New York   \n",
      "11 2024-03-01 23:38:04.503679         32  New York   \n",
      "12 2024-03-02 11:38:04.503679         78  New York   \n",
      "13 2024-03-02 23:38:04.503679         75  New York   \n",
      "\n",
      "                      AQI_Category  \n",
      "0                             Good  \n",
      "1   Unhealthy for Sensitive Groups  \n",
      "2                             Good  \n",
      "3   Unhealthy for Sensitive Groups  \n",
      "4                             Good  \n",
      "6                         Moderate  \n",
      "7                             Good  \n",
      "8                         Moderate  \n",
      "9                             Good  \n",
      "10  Unhealthy for Sensitive Groups  \n",
      "11                            Good  \n",
      "12                        Moderate  \n",
      "13                        Moderate  \n"
     ]
    }
   ],
   "source": [
    "def categorize_aqi(aqi):\n",
    "    if aqi <= 50:\n",
    "        return 'Good'\n",
    "    elif aqi <= 100:\n",
    "        return 'Moderate'\n",
    "    elif aqi <= 150:\n",
    "        return 'Unhealthy for Sensitive Groups'\n",
    "    elif aqi <= 200:\n",
    "        return 'Unhealthy'\n",
    "    elif aqi <= 300:\n",
    "        return 'Very Unhealthy'\n",
    "    else:\n",
    "        return 'Hazardous'\n",
    "\n",
    "df_api['AQI_Category'] = df_api['AQI_Value'].apply(categorize_aqi)\n",
    "print(df_api)"
   ]
  },
  {
   "cell_type": "markdown",
   "id": "de39e80c-40a4-4ab6-9f04-d5feb55744cd",
   "metadata": {},
   "source": [
    "##### HTML Source"
   ]
  },
  {
   "cell_type": "code",
   "execution_count": 69,
   "id": "d38609d4-005c-4be0-b657-a42ac9f49b6e",
   "metadata": {},
   "outputs": [
    {
     "name": "stdout",
     "output_type": "stream",
     "text": [
      "               Date / Time\\n      Dis- solvedoxygen,  mg/L,[HRECOS]  \\\n",
      "0     02/12/2024 00:00   EST                                13.8P     \n",
      "1     02/12/2024 00:15   EST                                13.8P     \n",
      "2     02/12/2024 00:30   EST                                13.7P     \n",
      "3     02/12/2024 00:45   EST                                13.7P     \n",
      "4     02/12/2024 01:00   EST                                13.7P     \n",
      "..                       ...                                    ...   \n",
      "763   02/19/2024 22:45   EST                                13.6P     \n",
      "764   02/19/2024 23:00   EST                                13.6P     \n",
      "765   02/19/2024 23:15   EST                                13.6P     \n",
      "766   02/19/2024 23:30   EST                                13.6P     \n",
      "767   02/19/2024 23:45   EST                                13.6P     \n",
      "\n",
      "    Estuary   or ocean elev- ation, NAVD,  feet,[HRECOS]  \\\n",
      "0                                             -4.23P       \n",
      "1                                             -4.27P       \n",
      "2                                             -4.39P       \n",
      "3                                             -4.50P       \n",
      "4                                             -4.62P       \n",
      "..                                                 ...     \n",
      "763                                                        \n",
      "764                                                        \n",
      "765                                                        \n",
      "766                                                        \n",
      "767                                                        \n",
      "\n",
      "       Temper- ature, water, deg C,[HRECOS]  \\\n",
      "0                                    2.2P     \n",
      "1                                    2.2P     \n",
      "2                                    2.2P     \n",
      "3                                    2.2P     \n",
      "4                                    2.2P     \n",
      "..                                      ...   \n",
      "763                                  2.1P     \n",
      "764                                  2.0P     \n",
      "765                                  2.1P     \n",
      "766                                  2.0P     \n",
      "767                                  2.1P     \n",
      "\n",
      "    Specif-   icconduc- tance,wat unfuS/cm @25 degC,[HRECOS]  \\\n",
      "0                                               474P           \n",
      "1                                               496P           \n",
      "2                                               535P           \n",
      "3                                               596P           \n",
      "4                                               574P           \n",
      "..                                                 ...         \n",
      "763                                             261P           \n",
      "764                                             261P           \n",
      "765                                             261P           \n",
      "766                                             261P           \n",
      "767                                             261P           \n",
      "\n",
      "    Turbid-  ity, IR LED light,det ang90 deg,  FNU,[HRECOSEXO]  \\\n",
      "0                                              76.2P             \n",
      "1                                              65.2P             \n",
      "2                                              82.2P             \n",
      "3                                              84.0P             \n",
      "4                                              66.1P             \n",
      "..                                                 ...           \n",
      "763                                            19.8P             \n",
      "764                                            20.7P             \n",
      "765                                            20.9P             \n",
      "766                                            22.2P             \n",
      "767                                            24.7P             \n",
      "\n",
      "       pH, water,unfltrd field,  std units,[HRECOS]  \\\n",
      "0                                            8.1P     \n",
      "1                                            8.1P     \n",
      "2                                            8.0P     \n",
      "3                                            8.0P     \n",
      "4                                            8.0P     \n",
      "..                                              ...   \n",
      "763                                          8.0P     \n",
      "764                                          8.0P     \n",
      "765                                          8.0P     \n",
      "766                                          8.0P     \n",
      "767                                          8.0P     \n",
      "\n",
      "       Dis- solvedoxygen,percentof sat-uration,[HRECOS]  \\\n",
      "0                                               100P      \n",
      "1                                               100P      \n",
      "2                                               100P      \n",
      "3                                               100P      \n",
      "4                                               100P      \n",
      "..                                                 ...    \n",
      "763                                              99P      \n",
      "764                                              99P      \n",
      "765                                              99P      \n",
      "766                                              99P      \n",
      "767                                              99P      \n",
      "\n",
      "       Salin-  ity, water,unfltrd  psu,[HRECOS]  \n",
      "0                                        0.2P    \n",
      "1                                        0.2P    \n",
      "2                                        0.3P    \n",
      "3                                        0.3P    \n",
      "4                                        0.3P    \n",
      "..                                          ...  \n",
      "763                                      0.1P    \n",
      "764                                      0.1P    \n",
      "765                                      0.1P    \n",
      "766                                      0.1P    \n",
      "767                                      0.1P    \n",
      "\n",
      "[768 rows x 9 columns]\n"
     ]
    }
   ],
   "source": [
    "import requests\n",
    "from bs4 import BeautifulSoup\n",
    "import pandas as pd\n",
    "\n",
    "# URL of the webpage to scrape\n",
    "url = 'https://waterdata.usgs.gov/nwis/uv?cb_00010=on&cb_00010=on&cb_00095=on&cb_00095=on&cb_00300=on&cb_00300=on&cb_00301=on&cb_00400=on&cb_00400=on&cb_62619=on&cb_62620=on&cb_63680=on&cb_63680=on&cb_90860=on&format=html&site_no=01374019&legacy=1&period=&begin_date=2024-02-12&end_date=2024-02-19'\n",
    "\n",
    "# Send a GET request to the URL\n",
    "response = requests.get(url)\n",
    "\n",
    "# Parse the HTML content of the page\n",
    "soup = BeautifulSoup(response.text, 'html.parser')\n",
    "\n",
    "# Find the table with the data using class selectors\n",
    "data_table = soup.find('table', class_='tablesorter')\n",
    "\n",
    "# Extract the headers\n",
    "headers = [header.get_text() for header in data_table.find_all('th')]\n",
    "\n",
    "# Extract data from each row of the table\n",
    "data = []\n",
    "for row in data_table.find_all('tr'):\n",
    "    cols = row.find_all('td')\n",
    "    cols_text = [col.get_text() for col in cols]\n",
    "    if cols_text:\n",
    "        data.append(cols_text)\n",
    "\n",
    "# Convert the list of data into a pandas DataFrame\n",
    "df_water = pd.DataFrame(data, columns=headers)\n",
    "\n",
    "# Print the cleaned DataFrame\n",
    "print(df_water)"
   ]
  },
  {
   "cell_type": "code",
   "execution_count": 70,
   "id": "ab4c4e94-7687-4a64-85be-6b6e73cab510",
   "metadata": {},
   "outputs": [
    {
     "name": "stdout",
     "output_type": "stream",
     "text": [
      "               Date and Time Dissolved Oxygen (mg/L) Elevation (ft)  \\\n",
      "0     02/12/2024 00:00   EST                 13.8P         -4.23P     \n",
      "1     02/12/2024 00:15   EST                 13.8P         -4.27P     \n",
      "2     02/12/2024 00:30   EST                 13.7P         -4.39P     \n",
      "3     02/12/2024 00:45   EST                 13.7P         -4.50P     \n",
      "4     02/12/2024 01:00   EST                 13.7P         -4.62P     \n",
      "..                       ...                     ...            ...   \n",
      "763   02/19/2024 22:45   EST                 13.6P                    \n",
      "764   02/19/2024 23:00   EST                 13.6P                    \n",
      "765   02/19/2024 23:15   EST                 13.6P                    \n",
      "766   02/19/2024 23:30   EST                 13.6P                    \n",
      "767   02/19/2024 23:45   EST                 13.6P                    \n",
      "\n",
      "    Water Temperature (°C) Conductance (µS/cm) Turbidity (FNU) pH Level  \\\n",
      "0                   2.2P                474P           76.2P     8.1P     \n",
      "1                   2.2P                496P           65.2P     8.1P     \n",
      "2                   2.2P                535P           82.2P     8.0P     \n",
      "3                   2.2P                596P           84.0P     8.0P     \n",
      "4                   2.2P                574P           66.1P     8.0P     \n",
      "..                     ...                 ...             ...      ...   \n",
      "763                 2.1P                261P           19.8P     8.0P     \n",
      "764                 2.0P                261P           20.7P     8.0P     \n",
      "765                 2.1P                261P           20.9P     8.0P     \n",
      "766                 2.0P                261P           22.2P     8.0P     \n",
      "767                 2.1P                261P           24.7P     8.0P     \n",
      "\n",
      "    Oxygen Saturation (%) Salinity (psu)  \n",
      "0                  100P           0.2P    \n",
      "1                  100P           0.2P    \n",
      "2                  100P           0.3P    \n",
      "3                  100P           0.3P    \n",
      "4                  100P           0.3P    \n",
      "..                    ...            ...  \n",
      "763                 99P           0.1P    \n",
      "764                 99P           0.1P    \n",
      "765                 99P           0.1P    \n",
      "766                 99P           0.1P    \n",
      "767                 99P           0.1P    \n",
      "\n",
      "[768 rows x 9 columns]\n"
     ]
    }
   ],
   "source": [
    "df_water.columns = ['Date and Time', 'Dissolved Oxygen (mg/L)', 'Elevation (ft)', 'Water Temperature (°C)', 'Conductance (µS/cm)', 'Turbidity (FNU)', 'pH Level', 'Oxygen Saturation (%)', 'Salinity (psu)']\n",
    "print(df_water)"
   ]
  },
  {
   "cell_type": "code",
   "execution_count": 71,
   "id": "21384744-b7e7-4ac5-aa8d-14b7af345794",
   "metadata": {},
   "outputs": [
    {
     "name": "stdout",
     "output_type": "stream",
     "text": [
      "   Dissolved Oxygen (mg/L)  Elevation (ft)  Water Temperature (°C)  \\\n",
      "0                     13.8            4.23                     2.2   \n",
      "1                     13.8            4.27                     2.2   \n",
      "2                     13.7            4.39                     2.2   \n",
      "3                     13.7            4.50                     2.2   \n",
      "4                     13.7            4.62                     2.2   \n",
      "\n",
      "   Conductance (µS/cm)  Turbidity (FNU)  pH Level  Oxygen Saturation (%)  \\\n",
      "0                474.0             76.2       8.1                  100.0   \n",
      "1                496.0             65.2       8.1                  100.0   \n",
      "2                535.0             82.2       8.0                  100.0   \n",
      "3                596.0             84.0       8.0                  100.0   \n",
      "4                574.0             66.1       8.0                  100.0   \n",
      "\n",
      "   Salinity (psu)  \n",
      "0             0.2  \n",
      "1             0.2  \n",
      "2             0.3  \n",
      "3             0.3  \n",
      "4             0.3  \n"
     ]
    }
   ],
   "source": [
    "import re\n",
    "\n",
    "# Define a function to clean the numeric values\n",
    "def clean_numeric(value):\n",
    "    if isinstance(value, str):\n",
    "        # Remove all non-numeric characters except the decimal point\n",
    "        cleaned_value = re.sub(r'[^\\d.]+', '', value)\n",
    "        return float(cleaned_value) if cleaned_value else None\n",
    "    return value\n",
    "\n",
    "# List of columns that need to be cleaned\n",
    "columns_to_clean = [\n",
    "    'Dissolved Oxygen (mg/L)', 'Elevation (ft)', 'Water Temperature (°C)',\n",
    "    'Conductance (µS/cm)', 'Turbidity (FNU)', 'pH Level',\n",
    "    'Oxygen Saturation (%)', 'Salinity (psu)'\n",
    "]\n",
    "\n",
    "# Apply the cleaning function to each column\n",
    "for column in columns_to_clean:\n",
    "    df_water[column] = df_water[column].apply(clean_numeric)\n",
    "\n",
    "# Check the first few rows of the dataframe to verify the changes\n",
    "print(df_water[columns_to_clean].head())"
   ]
  },
  {
   "cell_type": "code",
   "execution_count": 72,
   "id": "823fe4c5-c3b9-4b72-99d3-d2cc5686a7e5",
   "metadata": {},
   "outputs": [
    {
     "name": "stdout",
     "output_type": "stream",
     "text": [
      "Detected outliers:\n",
      "               Date and Time  Dissolved Oxygen (mg/L)  Elevation (ft)  \\\n",
      "0     02/12/2024 00:00   EST                     13.8            4.23   \n",
      "1     02/12/2024 00:15   EST                     13.8            4.27   \n",
      "2     02/12/2024 00:30   EST                     13.7            4.39   \n",
      "3     02/12/2024 00:45   EST                     13.7            4.50   \n",
      "4     02/12/2024 01:00   EST                     13.7            4.62   \n",
      "..                       ...                      ...             ...   \n",
      "403   02/12/2024 16:15   EST                     13.7            0.96   \n",
      "404   02/12/2024 16:30   EST                     13.7            0.72   \n",
      "405   02/12/2024 16:45   EST                     13.7            0.38   \n",
      "406   02/12/2024 17:00   EST                     13.7            0.05   \n",
      "407   02/12/2024 17:15   EST                     13.7            0.28   \n",
      "\n",
      "     Water Temperature (°C)  Conductance (µS/cm)  Turbidity (FNU)  pH Level  \\\n",
      "0                       2.2                474.0             76.2       8.1   \n",
      "1                       2.2                496.0             65.2       8.1   \n",
      "2                       2.2                535.0             82.2       8.0   \n",
      "3                       2.2                596.0             84.0       8.0   \n",
      "4                       2.2                574.0             66.1       8.0   \n",
      "..                      ...                  ...              ...       ...   \n",
      "403                     2.2                763.0             51.7       8.0   \n",
      "404                     2.2                769.0             59.9       8.0   \n",
      "405                     2.3                738.0             51.5       8.0   \n",
      "406                     2.2                809.0             50.2       8.0   \n",
      "407                     2.2                804.0             50.7       8.0   \n",
      "\n",
      "     Oxygen Saturation (%)  Salinity (psu)               Outlier_In  \n",
      "0                    100.0             0.2  Dissolved Oxygen (mg/L)  \n",
      "1                    100.0             0.2  Dissolved Oxygen (mg/L)  \n",
      "2                    100.0             0.3  Dissolved Oxygen (mg/L)  \n",
      "3                    100.0             0.3  Dissolved Oxygen (mg/L)  \n",
      "4                    100.0             0.3  Dissolved Oxygen (mg/L)  \n",
      "..                     ...             ...                      ...  \n",
      "403                  100.0             0.4           Salinity (psu)  \n",
      "404                  100.0             0.4           Salinity (psu)  \n",
      "405                  100.0             0.4           Salinity (psu)  \n",
      "406                  100.0             0.4           Salinity (psu)  \n",
      "407                  100.0             0.4           Salinity (psu)  \n",
      "\n",
      "[408 rows x 10 columns]\n"
     ]
    }
   ],
   "source": [
    "# Define a function to detect outliers in a column\n",
    "def detect_outliers(df_water, column):\n",
    "    Q1 = df_water[column].quantile(0.25)\n",
    "    Q3 = df_water[column].quantile(0.75)\n",
    "    IQR = Q3 - Q1\n",
    "    lower_bound = Q1 - 1.5 * IQR\n",
    "    upper_bound = Q3 + 1.5 * IQR\n",
    "    return df_water[(df_water[column] < lower_bound) | (df_water[column] > upper_bound)].copy()\n",
    "\n",
    "# List of numerical columns to check for outliers\n",
    "numerical_columns = [\n",
    "    'Dissolved Oxygen (mg/L)', 'Elevation (ft)', 'Water Temperature (°C)',\n",
    "    'Conductance (µS/cm)', 'Turbidity (FNU)', 'pH Level',\n",
    "    'Oxygen Saturation (%)', 'Salinity (psu)'\n",
    "]\n",
    "\n",
    "# Create an empty DataFrame to store outliers\n",
    "outliers_df_water = pd.DataFrame()\n",
    "\n",
    "# Loop through each numerical column to detect outliers\n",
    "for column in numerical_columns:\n",
    "    current_outliers = detect_outliers(df_water, column)\n",
    "    # Add a column to distinguish outliers from different features\n",
    "    current_outliers['Outlier_In'] = column\n",
    "    # Append to the outliers DataFrame\n",
    "    outliers_df_water = pd.concat([outliers_df_water, current_outliers], ignore_index=True)\n",
    "\n",
    "# Display the outliers DataFrame\n",
    "print(\"Detected outliers:\")\n",
    "print(outliers_df_water)\n"
   ]
  },
  {
   "cell_type": "code",
   "execution_count": 73,
   "id": "75a4894d-b972-470a-abbb-55d3ddb6a13a",
   "metadata": {},
   "outputs": [
    {
     "name": "stdout",
     "output_type": "stream",
     "text": [
      "Duplicate rows:\n",
      "Empty DataFrame\n",
      "Columns: [Date and Time, Dissolved Oxygen (mg/L), Elevation (ft), Water Temperature (°C), Conductance (µS/cm), Turbidity (FNU), pH Level, Oxygen Saturation (%), Salinity (psu)]\n",
      "Index: []\n",
      "DataFrame shape after removing duplicates: (768, 9)\n"
     ]
    }
   ],
   "source": [
    "# Find and display any duplicate rows\n",
    "duplicate_rows = df_water[df_water.duplicated()]\n",
    "print(\"Duplicate rows:\")\n",
    "print(duplicate_rows)\n",
    "\n",
    "# Remove the duplicate rows\n",
    "df_water = df_water.drop_duplicates()\n",
    "\n",
    "# Reset the index of the DataFrame after removing duplicates\n",
    "df_water.reset_index(drop=True, inplace=True)\n",
    "\n",
    "# Display the shape of the DataFrame after duplicates have been removed\n",
    "print(f\"DataFrame shape after removing duplicates: {df_water.shape}\")\n"
   ]
  },
  {
   "cell_type": "code",
   "execution_count": 74,
   "id": "8f905ae8-c6bf-49d4-b60c-c8e1c354b89c",
   "metadata": {},
   "outputs": [
    {
     "name": "stdout",
     "output_type": "stream",
     "text": [
      "   Dissolved Oxygen (mg/L)  Contamination_Flag\n",
      "0                     13.8                   0\n",
      "1                     13.8                   0\n",
      "2                     13.7                   0\n",
      "3                     13.7                   0\n",
      "4                     13.7                   0\n"
     ]
    }
   ],
   "source": [
    "# Define a threshold for Dissolved Oxygen below which the water is considered contaminated\n",
    "contamination_threshold = 5  \n",
    "\n",
    "# Add a new column 'Contamination_Flag' where 1 indicates contamination and 0 indicates no contamination\n",
    "df_water['Contamination_Flag'] = (df_water['Dissolved Oxygen (mg/L)'] < contamination_threshold).astype(int)\n",
    "\n",
    "# Verify the new column\n",
    "print(df_water[['Dissolved Oxygen (mg/L)', 'Contamination_Flag']].head())\n"
   ]
  },
  {
   "cell_type": "markdown",
   "id": "4d1dcc70-c091-41aa-980e-037132f91c8c",
   "metadata": {},
   "source": [
    "##### Merging the Data and Storing in a Database"
   ]
  },
  {
   "cell_type": "code",
   "execution_count": 77,
   "id": "2cb7b60c-2035-4118-90ff-787d906e544c",
   "metadata": {},
   "outputs": [
    {
     "data": {
      "text/plain": [
       "768"
      ]
     },
     "execution_count": 77,
     "metadata": {},
     "output_type": "execute_result"
    }
   ],
   "source": [
    "import sqlite3\n",
    "import pandas as pd\n",
    "\n",
    "# Create a database connection\n",
    "conn = sqlite3.connect('environmental_data.db')\n",
    "\n",
    "# Save each DataFrame to the SQLite database\n",
    "df_air.to_sql('air_quality', conn, if_exists='replace', index=False)\n",
    "df_api.to_sql('api_data', conn, if_exists='replace', index=False)\n",
    "df_water.to_sql('water_quality', conn, if_exists='replace', index=False)"
   ]
  },
  {
   "cell_type": "code",
   "execution_count": 78,
   "id": "24a737fa-5d5f-4649-89c2-0b0927665df0",
   "metadata": {},
   "outputs": [
    {
     "name": "stdout",
     "output_type": "stream",
     "text": [
      "    cid                      name     type  notnull dflt_value  pk\n",
      "0     0                 Unique ID  INTEGER        0       None   0\n",
      "1     1              Indicator ID  INTEGER        0       None   0\n",
      "2     2                      Name     TEXT        0       None   0\n",
      "3     3                   Measure     TEXT        0       None   0\n",
      "4     4              Measure Info     TEXT        0       None   0\n",
      "5     5             Geo Type Name     TEXT        0       None   0\n",
      "6     6               Geo Join ID  INTEGER        0       None   0\n",
      "7     7            Geo Place Name     TEXT        0       None   0\n",
      "8     8               Time Period     TEXT        0       None   0\n",
      "9     9                Start_Date     TEXT        0       None   0\n",
      "10   10                Data Value     REAL        0       None   0\n",
      "11   11                   Message     REAL        0       None   0\n",
      "12   12  Pollutant Level Category     TEXT        0       None   0\n"
     ]
    }
   ],
   "source": [
    "# Connect to the SQLite database\n",
    "conn = sqlite3.connect('environmental_data.db')\n",
    "\n",
    "# Get the schema of air_quality table\n",
    "air_quality_schema = pd.read_sql_query(\"PRAGMA table_info(air_quality)\", conn)\n",
    "print(air_quality_schema)\n"
   ]
  },
  {
   "cell_type": "code",
   "execution_count": 79,
   "id": "08fd5141-cec6-4b9e-884d-0200396200e8",
   "metadata": {},
   "outputs": [
    {
     "name": "stdout",
     "output_type": "stream",
     "text": [
      "   cid            name       type  notnull dflt_value  pk\n",
      "0    0  SampleDateTime  TIMESTAMP        0       None   0\n",
      "1    1       AQI_Value    INTEGER        0       None   0\n",
      "2    2        Location       TEXT        0       None   0\n",
      "3    3    AQI_Category       TEXT        0       None   0\n",
      "   cid                     name     type  notnull dflt_value  pk\n",
      "0    0            Date and Time     TEXT        0       None   0\n",
      "1    1  Dissolved Oxygen (mg/L)     REAL        0       None   0\n",
      "2    2           Elevation (ft)     REAL        0       None   0\n",
      "3    3   Water Temperature (°C)     REAL        0       None   0\n",
      "4    4      Conductance (µS/cm)     REAL        0       None   0\n",
      "5    5          Turbidity (FNU)     REAL        0       None   0\n",
      "6    6                 pH Level     REAL        0       None   0\n",
      "7    7    Oxygen Saturation (%)     REAL        0       None   0\n",
      "8    8           Salinity (psu)     REAL        0       None   0\n",
      "9    9       Contamination_Flag  INTEGER        0       None   0\n"
     ]
    }
   ],
   "source": [
    "# Check the schema of api_data table\n",
    "api_data_schema = pd.read_sql_query(\"PRAGMA table_info(api_data)\", conn)\n",
    "print(api_data_schema)\n",
    "\n",
    "# Check the schema of water_quality table\n",
    "water_quality_schema = pd.read_sql_query(\"PRAGMA table_info(water_quality)\", conn)\n",
    "print(water_quality_schema)\n"
   ]
  },
  {
   "cell_type": "code",
   "execution_count": 80,
   "id": "80113e22-5ea1-49db-b35c-293d1203fe25",
   "metadata": {},
   "outputs": [
    {
     "name": "stdout",
     "output_type": "stream",
     "text": [
      "Empty DataFrame\n",
      "Columns: [Unique ID, Indicator ID, Name, Measure, Measure Info, Geo Type Name, Geo Join ID, Geo Place Name, Time Period, Start_Date, Data Value, Message, Pollutant Level Category, SampleDateTime, AQI_Value, Location, AQI_Category, Date and Time, Dissolved Oxygen (mg/L), Elevation (ft), Water Temperature (°C), Conductance (µS/cm), Turbidity (FNU), pH Level, Oxygen Saturation (%), Salinity (psu), Contamination_Flag]\n",
      "Index: []\n",
      "\n",
      "[0 rows x 27 columns]\n"
     ]
    }
   ],
   "source": [
    "# Execute the query and store the result in a new DataFrame\n",
    "sql_query = \"\"\"\n",
    "SELECT *\n",
    "FROM air_quality\n",
    "JOIN api_data ON air_quality.Start_Date = api_data.SampleDateTime\n",
    "JOIN water_quality ON air_quality.Start_Date = water_quality.\"Date and Time\"\n",
    "\"\"\"\n",
    "merged_df = pd.read_sql_query(sql_query, conn)\n",
    "\n",
    "# Check the result\n",
    "print(merged_df)\n"
   ]
  },
  {
   "cell_type": "code",
   "execution_count": 81,
   "id": "a760750c-2e53-4847-8c38-da45f77ca3f9",
   "metadata": {},
   "outputs": [
    {
     "name": "stdout",
     "output_type": "stream",
     "text": [
      "Air Quality Table Dates:\n",
      "      MinDate     MaxDate\n",
      "0  2005-01-01  2020-06-01\n",
      "API Data Table Dates:\n",
      "                      MinDate                     MaxDate\n",
      "0  2024-02-25 11:38:04.503679  2024-03-02 23:38:04.503679\n",
      "Water Quality Table Dates:\n",
      "                   MinDate                  MaxDate\n",
      "0   02/12/2024 00:00   EST   02/19/2024 23:45   EST\n"
     ]
    }
   ],
   "source": [
    "import sqlite3\n",
    "import pandas as pd\n",
    "\n",
    "# Connect to the SQLite database\n",
    "conn = sqlite3.connect('environmental_data.db')\n",
    "\n",
    "# SQL query to find the min and max dates for air_quality\n",
    "air_quality_dates = pd.read_sql_query(\"SELECT MIN(Start_Date) AS MinDate, MAX(Start_Date) AS MaxDate FROM air_quality\", conn)\n",
    "print(\"Air Quality Table Dates:\")\n",
    "print(air_quality_dates)\n",
    "\n",
    "# SQL query to find the min and max dates for api_data\n",
    "api_data_dates = pd.read_sql_query(\"SELECT MIN(SampleDateTime) AS MinDate, MAX(SampleDateTime) AS MaxDate FROM api_data\", conn)\n",
    "print(\"API Data Table Dates:\")\n",
    "print(api_data_dates)\n",
    "\n",
    "# SQL query to find the min and max dates for water_quality\n",
    "water_quality_dates = pd.read_sql_query('SELECT MIN(\"Date and Time\") AS MinDate, MAX(\"Date and Time\") AS MaxDate FROM water_quality', conn)\n",
    "print(\"Water Quality Table Dates:\")\n",
    "print(water_quality_dates)\n",
    "\n",
    "# Close the database connection\n",
    "conn.close()\n"
   ]
  },
  {
   "cell_type": "markdown",
   "id": "5cb90f25-ca08-4932-aad3-2f1733151a84",
   "metadata": {},
   "source": [
    "##### Visualizing Data"
   ]
  },
  {
   "cell_type": "code",
   "execution_count": 82,
   "id": "17e0f980-8f49-4c3b-9dfa-3e573519b00d",
   "metadata": {},
   "outputs": [
    {
     "data": {
      "image/png": "[encoded data removed]",
      "text/plain": [
       "<Figure size 1200x600 with 1 Axes>"
      ]
     },
     "metadata": {},
     "output_type": "display_data"
    }
   ],
   "source": [
    "# Considering the column names under the air quality dataset from the CSV file\n",
    "date_column = 'Start_Date'\n",
    "numeric_column = 'Data Value'  \n",
    "\n",
    "df_air[date_column] = pd.to_datetime(df_air[date_column])  \n",
    "df_air = df_air.sort_values(by=date_column)  \n",
    "\n",
    "plt.figure(figsize=(12, 6))\n",
    "plt.plot(df_air[date_column], df_air[numeric_column], marker='o', linestyle='-') \n",
    "plt.title('Air Quality Over Time') \n",
    "plt.xlabel('Date') \n",
    "plt.ylabel(numeric_column) \n",
    "plt.grid(True)  \n",
    "plt.show()  \n"
   ]
  },
  {
   "cell_type": "code",
   "execution_count": 83,
   "id": "920b4ec6-d3fd-4d70-ab77-8a7eb4454840",
   "metadata": {},
   "outputs": [
    {
     "data": {
      "image/png": "[encoded data removed]",
      "text/plain": [
       "<Figure size 1200x600 with 1 Axes>"
      ]
     },
     "metadata": {},
     "output_type": "display_data"
    }
   ],
   "source": [
    "# Plotting time series of API data\n",
    "df_api['SampleDateTime'] = pd.to_datetime(df_api['SampleDateTime'])  \n",
    "df_api = df_api.sort_values('SampleDateTime') \n",
    "plt.figure(figsize=(12, 6))\n",
    "plt.plot(df_api['SampleDateTime'], df_api['AQI_Value'], label='API Data', color='orange')\n",
    "plt.title('API Data Over Time')\n",
    "plt.xlabel('Date')\n",
    "plt.ylabel('AQI Value')\n",
    "plt.legend()\n",
    "plt.show()\n"
   ]
  },
  {
   "cell_type": "code",
   "execution_count": 84,
   "id": "9a58c350-6a46-42aa-801f-9e170c18303b",
   "metadata": {},
   "outputs": [
    {
     "name": "stderr",
     "output_type": "stream",
     "text": [
      "C:\\Users\\RexAr\\AppData\\Local\\Temp\\ipykernel_17268\\823981222.py:2: FutureWarning: Parsed string \" 02/12/2024 00:00   EST\" included an un-recognized timezone \"EST\". Dropping unrecognized timezones is deprecated; in a future version this will raise. Instead pass the string without the timezone, then use .tz_localize to convert to a recognized timezone.\n",
      "  df_water['Date and Time'] = pd.to_datetime(df_water['Date and Time'])\n"
     ]
    },
    {
     "data": {
      "image/png": "[encoded data removed]",
      "text/plain": [
       "<Figure size 1200x600 with 1 Axes>"
      ]
     },
     "metadata": {},
     "output_type": "display_data"
    }
   ],
   "source": [
    "# Plotting time series of water quality data\n",
    "df_water['Date and Time'] = pd.to_datetime(df_water['Date and Time'])  \n",
    "df_water = df_water.sort_values('Date and Time')  \n",
    "plt.figure(figsize=(12, 6))\n",
    "plt.plot(df_water['Date and Time'], df_water['Dissolved Oxygen (mg/L)'], label='Water Quality Data', color='green')\n",
    "plt.title('Water Quality Over Time')\n",
    "plt.xlabel('Date')\n",
    "plt.ylabel('Dissolved Oxygen (mg/L)')\n",
    "plt.legend()\n",
    "plt.show()\n"
   ]
  },
  {
   "cell_type": "markdown",
   "id": "9ead4bec-e4ff-485d-ba9e-6b29bac9883a",
   "metadata": {},
   "source": [
    "Throughout the project, the intricacies of data wrangling were realized, uncovering the critical need for consistent datasets when aiming to integrate diverse environmental data. The initial objective was to conduct a comparative analysis between air quality and water quality datasets. However, there was a significant challenge when the temporal data did not align, preventing a direct comparison.\r\n",
    "Efforts to merge the data using SQL were thwarted by varying date ranges, resorting to analysis of each dataset independently. Using Matplotlib for visualization, distinct plots were created for each dataset. This approach allowed for an examination of individual trends over time, despite the inability to consolidate the data into a unified visual representation.\r\n",
    "There is ample room for improvement, especially in managing dates and times within datasets. For consideration is the importance of managing non-aligned data effectively. With regards to ethical data science, there's an understanding that data manipulation, such as cleaning or transforming to fit an analysis, must be approached with caution to avoid distorting the data narrative. To maintain integrity, it is important to practice meticulously documenting each change and verifying analysis by examining the data from multiple perspectives.\r\n",
    "Despite these challenges and the oversight in acquiring temporally relevant datasets, I learned a valuable lesson: data always holds potential insights. Although the initial analytical path may be obstructed, there is still a wealth of information available. Through this project, I have definitely appreciated the technical knowledge gained while acknowledging a deeper appreciation for the ethical considerations that are integral to responsible data science.\r\n"
   ]
  }
 ],
 "metadata": {
  "kernelspec": {
   "display_name": "Python 3 (ipykernel)",
   "language": "python",
   "name": "python3"
  },
  "language_info": {
   "codemirror_mode": {
    "name": "ipython",
    "version": 3
   },
   "file_extension": ".py",
   "mimetype": "text/x-python",
   "name": "python",
   "nbconvert_exporter": "python",
   "pygments_lexer": "ipython3",
   "version": "3.9.18"
  }
 },
 "nbformat": 4,
 "nbformat_minor": 5
}
