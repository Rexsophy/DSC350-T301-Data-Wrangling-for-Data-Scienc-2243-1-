{
 "cells": [
  {
   "cell_type": "markdown",
   "id": "0b27bd9b",
   "metadata": {},
   "source": [
    "## Assignment 4.2\n",
    "Author: Rex Gayas\n",
    "Date: 7 January 2024\n",
    "Modified By: N/A\n",
    "Description: This assignment further explored and manipulated CSV Data with Pandas DataFrames for insightful data analysis."
   ]
  },
  {
   "cell_type": "markdown",
   "id": "2e2504cb",
   "metadata": {},
   "source": [
    "### Solution to Exercise 1"
   ]
  },
  {
   "cell_type": "code",
   "execution_count": 48,
   "id": "aeefee32",
   "metadata": {},
   "outputs": [
    {
     "name": "stdout",
     "output_type": "stream",
     "text": [
      "Data Loaded:\n",
      "        Country  CountryID  Continent  Adolescent fertility rate (%)  \\\n",
      "0  Afghanistan          1          1                          151.0   \n",
      "1      Albania          2          2                           27.0   \n",
      "2      Algeria          3          3                            6.0   \n",
      "3      Andorra          4          2                            NaN   \n",
      "4       Angola          5          3                          146.0   \n",
      "\n",
      "   Adult literacy rate (%)  \\\n",
      "0                     28.0   \n",
      "1                     98.7   \n",
      "2                     69.9   \n",
      "3                      NaN   \n",
      "4                     67.4   \n",
      "\n",
      "   Gross national income per capita (PPP international $)  \\\n",
      "0                                                NaN        \n",
      "1                                             6000.0        \n",
      "2                                             5940.0        \n",
      "3                                                NaN        \n",
      "4                                             3890.0        \n",
      "\n",
      "   Net primary school enrolment ratio female (%)  \\\n",
      "0                                            NaN   \n",
      "1                                           93.0   \n",
      "2                                           94.0   \n",
      "3                                           83.0   \n",
      "4                                           49.0   \n",
      "\n",
      "   Net primary school enrolment ratio male (%)  \\\n",
      "0                                          NaN   \n",
      "1                                         94.0   \n",
      "2                                         96.0   \n",
      "3                                         83.0   \n",
      "4                                         51.0   \n",
      "\n",
      "   Population (in thousands) total  \n",
      "0                          26088.0  \n",
      "1                           3172.0  \n",
      "2                          33351.0  \n",
      "3                             74.0  \n",
      "4                          16557.0  \n"
     ]
    }
   ],
   "source": [
    "import pandas as pd\n",
    "\n",
    "# Load the data into a DataFrame\n",
    "file_path = 'D:\\\\ALPHA\\\\Dynamic Folder\\\\Bellevue\\\\Winter 2023\\\\Data Wrangling\\\\Week 4\\\\WHO_first9cols.csv'\n",
    "data = pd.read_csv(file_path)\n",
    "\n",
    "# Print the results\n",
    "print(\"Data Loaded:\\n\", data.head())\n"
   ]
  },
  {
   "cell_type": "code",
   "execution_count": 50,
   "id": "118fc227",
   "metadata": {},
   "outputs": [
    {
     "name": "stdout",
     "output_type": "stream",
     "text": [
      "\n",
      "Number of Rows: 202\n"
     ]
    }
   ],
   "source": [
    "# Query the number of rows\n",
    "num_rows = data.shape[0]\n",
    "print(\"\\nNumber of Rows:\", num_rows)"
   ]
  },
  {
   "cell_type": "code",
   "execution_count": 3,
   "id": "2da9f167",
   "metadata": {},
   "outputs": [
    {
     "name": "stdout",
     "output_type": "stream",
     "text": [
      "\n",
      "Column Headers: Index(['Country', 'CountryID', 'Continent', 'Adolescent fertility rate (%)',\n",
      "       'Adult literacy rate (%)',\n",
      "       'Gross national income per capita (PPP international $)',\n",
      "       'Net primary school enrolment ratio female (%)',\n",
      "       'Net primary school enrolment ratio male (%)',\n",
      "       'Population (in thousands) total'],\n",
      "      dtype='object')\n"
     ]
    }
   ],
   "source": [
    "# Print the column headers\n",
    "column_headers = data.columns\n",
    "print(\"\\nColumn Headers:\", column_headers)"
   ]
  },
  {
   "cell_type": "code",
   "execution_count": 51,
   "id": "64da1f73",
   "metadata": {},
   "outputs": [
    {
     "name": "stdout",
     "output_type": "stream",
     "text": [
      "\n",
      "Data Types:\n",
      " Country                                                    object\n",
      "CountryID                                                   int64\n",
      "Continent                                                   int64\n",
      "Adolescent fertility rate (%)                             float64\n",
      "Adult literacy rate (%)                                   float64\n",
      "Gross national income per capita (PPP international $)    float64\n",
      "Net primary school enrolment ratio female (%)             float64\n",
      "Net primary school enrolment ratio male (%)               float64\n",
      "Population (in thousands) total                           float64\n",
      "dtype: object\n"
     ]
    }
   ],
   "source": [
    "# Print the data types\n",
    "data_types = data.dtypes\n",
    "print(\"\\nData Types:\\n\", data_types)"
   ]
  },
  {
   "cell_type": "code",
   "execution_count": 52,
   "id": "ca96598a",
   "metadata": {},
   "outputs": [
    {
     "name": "stdout",
     "output_type": "stream",
     "text": [
      "\n",
      "Index: RangeIndex(start=0, stop=202, step=1)\n"
     ]
    }
   ],
   "source": [
    "# Print the index\n",
    "index = data.index\n",
    "print(\"\\nIndex:\", index)"
   ]
  },
  {
   "cell_type": "markdown",
   "id": "c5ef4cb2",
   "metadata": {},
   "source": [
    "### Solution to Exercise 2"
   ]
  },
  {
   "cell_type": "code",
   "execution_count": 53,
   "id": "e82098be",
   "metadata": {},
   "outputs": [
    {
     "name": "stdout",
     "output_type": "stream",
     "text": [
      "Data Type of 'Country' Column: object\n"
     ]
    }
   ],
   "source": [
    "# Select the \"Country\" column\n",
    "country_column = data['Country']\n",
    "\n",
    "# Returning its data type\n",
    "data_type = country_column.dtype\n",
    "print(f\"Data Type of 'Country' Column: {data_type}\")"
   ]
  },
  {
   "cell_type": "code",
   "execution_count": 54,
   "id": "80d3efe0",
   "metadata": {},
   "outputs": [
    {
     "name": "stdout",
     "output_type": "stream",
     "text": [
      "Shape of 'Country' Column: (202,)\n"
     ]
    }
   ],
   "source": [
    "# Return the series shape\n",
    "shape = country_column.shape\n",
    "print(f\"Shape of 'Country' Column: {shape}\")"
   ]
  },
  {
   "cell_type": "code",
   "execution_count": 55,
   "id": "988875aa",
   "metadata": {},
   "outputs": [
    {
     "name": "stdout",
     "output_type": "stream",
     "text": [
      "Index of 'Country' Column: RangeIndex(start=0, stop=202, step=1)\n"
     ]
    }
   ],
   "source": [
    "# Return the index\n",
    "index = country_column.index\n",
    "print(f\"Index of 'Country' Column: {index}\")"
   ]
  },
  {
   "cell_type": "code",
   "execution_count": 56,
   "id": "00a9989b",
   "metadata": {},
   "outputs": [
    {
     "name": "stdout",
     "output_type": "stream",
     "text": [
      "Values of 'Country' Column: ['Afghanistan' 'Albania' 'Algeria' 'Andorra' 'Angola'\n",
      " 'Antigua and Barbuda' 'Argentina' 'Armenia' 'Australia' 'Austria']...\n"
     ]
    }
   ],
   "source": [
    "# Return the values\n",
    "values = country_column.values\n",
    "print(f\"Values of 'Country' Column: {values[:10]}...\")  # Displaying first 10 values only"
   ]
  },
  {
   "cell_type": "code",
   "execution_count": 57,
   "id": "42a6f516",
   "metadata": {},
   "outputs": [
    {
     "name": "stdout",
     "output_type": "stream",
     "text": [
      "Name of the Series: Country\n"
     ]
    }
   ],
   "source": [
    "# Return the name of the series\n",
    "name = country_column.name\n",
    "print(f\"Name of the Series: {name}\")"
   ]
  },
  {
   "cell_type": "markdown",
   "id": "b8811690",
   "metadata": {},
   "source": [
    "### Solution to Exercise 3"
   ]
  },
  {
   "cell_type": "code",
   "execution_count": 58,
   "id": "58f3d586",
   "metadata": {},
   "outputs": [
    {
     "name": "stdout",
     "output_type": "stream",
     "text": [
      "Head of the data:\n",
      "             Yearly Mean Total Sunspot Number  Yearly Mean Standard Deviation  \\\n",
      "Date                                                                           \n",
      "1700-12-31                               8.3                             NaN   \n",
      "1701-12-31                              18.3                             NaN   \n",
      "1702-12-31                              26.7                             NaN   \n",
      "1703-12-31                              38.3                             NaN   \n",
      "1704-12-31                              60.0                             NaN   \n",
      "\n",
      "            Number of Observations  Definitive/Provisional Indicator  \n",
      "Date                                                                  \n",
      "1700-12-31                     NaN                               1.0  \n",
      "1701-12-31                     NaN                               1.0  \n",
      "1702-12-31                     NaN                               1.0  \n",
      "1703-12-31                     NaN                               1.0  \n",
      "1704-12-31                     NaN                               1.0  \n",
      "\n",
      "Tail of the data:\n",
      "             Yearly Mean Total Sunspot Number  Yearly Mean Standard Deviation  \\\n",
      "Date                                                                           \n",
      "2016-12-31                              39.8                             3.9   \n",
      "2017-12-31                              21.7                             2.5   \n",
      "2018-12-31                               7.0                             1.1   \n",
      "2019-12-31                               3.6                             0.5   \n",
      "2020-12-31                               8.8                             4.1   \n",
      "\n",
      "            Number of Observations  Definitive/Provisional Indicator  \n",
      "Date                                                                  \n",
      "2016-12-31                  9940.0                               1.0  \n",
      "2017-12-31                 11444.0                               1.0  \n",
      "2018-12-31                 12611.0                               1.0  \n",
      "2019-12-31                 12884.0                               1.0  \n",
      "2020-12-31                 14440.0                               1.0  \n"
     ]
    }
   ],
   "source": [
    "import quandl\n",
    "\n",
    "# Input Quandl API key\n",
    "quandl.ApiConfig.api_key = 'LQSjhLEu2tY2XY_wLGqx'\n",
    "\n",
    "# Import the sunspots data using Quandl\n",
    "data = quandl.get('SIDC/SUNSPOTS_A')\n",
    "\n",
    "# Print the head and tail\n",
    "print(\"Head of the data:\\n\", data.head())\n",
    "print(\"\\nTail of the data:\\n\", data.tail())"
   ]
  },
  {
   "cell_type": "code",
   "execution_count": 59,
   "id": "77975914",
   "metadata": {},
   "outputs": [
    {
     "name": "stdout",
     "output_type": "stream",
     "text": [
      "\n",
      "Last value of the data on the last date:\n",
      " Yearly Mean Total Sunspot Number        8.8\n",
      "Yearly Mean Standard Deviation          4.1\n",
      "Number of Observations              14440.0\n",
      "Definitive/Provisional Indicator        1.0\n",
      "Name: 2020-12-31 00:00:00, dtype: float64\n"
     ]
    }
   ],
   "source": [
    "# Query for the last value using the last date\n",
    "last_value = data.iloc[-1]\n",
    "print(\"\\nLast value of the data on the last date:\\n\", last_value)"
   ]
  },
  {
   "cell_type": "code",
   "execution_count": 60,
   "id": "5e6be622",
   "metadata": {},
   "outputs": [
    {
     "name": "stdout",
     "output_type": "stream",
     "text": [
      "\n",
      "Data for the first date in the dataset:\n",
      " Yearly Mean Total Sunspot Number    8.3\n",
      "Yearly Mean Standard Deviation      NaN\n",
      "Number of Observations              NaN\n",
      "Definitive/Provisional Indicator    1.0\n",
      "Name: 1700-12-31 00:00:00, dtype: float64\n"
     ]
    }
   ],
   "source": [
    "# Query a specific date\n",
    "# Using the first date in the dataset as an example\n",
    "date_query = data.index[0]\n",
    "queried_date = data.loc[date_query]\n",
    "print(\"\\nData for the first date in the dataset:\\n\", queried_date)"
   ]
  },
  {
   "cell_type": "code",
   "execution_count": 61,
   "id": "99de0cc0",
   "metadata": {},
   "outputs": [
    {
     "name": "stdout",
     "output_type": "stream",
     "text": [
      "\n",
      "Data where the number of observations is greater than the mean:\n",
      "             Yearly Mean Total Sunspot Number  Yearly Mean Standard Deviation  \\\n",
      "Date                                                                           \n",
      "1981-12-31                             198.9                            13.1   \n",
      "1982-12-31                             162.4                            12.1   \n",
      "1983-12-31                              91.0                             7.6   \n",
      "1984-12-31                              60.5                             5.9   \n",
      "1985-12-31                              20.6                             3.7   \n",
      "\n",
      "            Number of Observations  Definitive/Provisional Indicator  \n",
      "Date                                                                  \n",
      "1981-12-31                  3049.0                               1.0  \n",
      "1982-12-31                  3436.0                               1.0  \n",
      "1983-12-31                  4216.0                               1.0  \n",
      "1984-12-31                  5103.0                               1.0  \n",
      "1985-12-31                  5543.0                               1.0  \n"
     ]
    }
   ],
   "source": [
    "# Query with a Boolean, where the number of observations is greater than the mean number of observations\n",
    "mean_observations = data['Number of Observations'].mean()\n",
    "data_greater_than_mean_observations = data[data['Number of Observations'] > mean_observations]\n",
    "print(\"\\nData where the number of observations is greater than the mean:\\n\", data_greater_than_mean_observations.head())"
   ]
  },
  {
   "cell_type": "code",
   "execution_count": 62,
   "id": "8edeeb59",
   "metadata": {},
   "outputs": [
    {
     "name": "stdout",
     "output_type": "stream",
     "text": [
      "\n",
      "Data where the number of sunspots is greater than the mean:\n",
      "             Yearly Mean Total Sunspot Number  Yearly Mean Standard Deviation  \\\n",
      "Date                                                                           \n",
      "1705-12-31                              96.7                             NaN   \n",
      "1717-12-31                             105.0                             NaN   \n",
      "1718-12-31                             100.0                             NaN   \n",
      "1726-12-31                             130.0                             NaN   \n",
      "1727-12-31                             203.3                             NaN   \n",
      "\n",
      "            Number of Observations  Definitive/Provisional Indicator  \n",
      "Date                                                                  \n",
      "1705-12-31                     NaN                               1.0  \n",
      "1717-12-31                     NaN                               1.0  \n",
      "1718-12-31                     NaN                               1.0  \n",
      "1726-12-31                     NaN                               1.0  \n",
      "1727-12-31                     NaN                               1.0  \n"
     ]
    }
   ],
   "source": [
    "# Query with a Boolean, where the number of sunspots is greater than the mean number of sunspots\n",
    "mean_sunspots = data['Yearly Mean Total Sunspot Number'].mean()\n",
    "data_greater_than_mean_sunspots = data[data['Yearly Mean Total Sunspot Number'] > mean_sunspots]\n",
    "print(\"\\nData where the number of sunspots is greater than the mean:\\n\", data_greater_than_mean_sunspots.head())"
   ]
  },
  {
   "cell_type": "markdown",
   "id": "83fbb4fc",
   "metadata": {},
   "source": [
    "### Solution to Exercise 4"
   ]
  },
  {
   "cell_type": "code",
   "execution_count": 63,
   "id": "fd745c62",
   "metadata": {},
   "outputs": [
    {
     "name": "stdout",
     "output_type": "stream",
     "text": [
      "Describe:\n",
      " count    321.000000\n",
      "mean      78.517134\n",
      "std       62.091523\n",
      "min        0.000000\n",
      "25%       24.200000\n",
      "50%       65.300000\n",
      "75%      115.200000\n",
      "max      269.300000\n",
      "Name: Yearly Mean Total Sunspot Number, dtype: float64\n",
      "\n",
      "Count of Observations: 321\n",
      "\n",
      "Mean Absolute Deviation (MAD): 51.02099552605276\n",
      "\n",
      "Mean: 78.51713395638627\n",
      "\n",
      "Median: 65.3\n",
      "\n",
      "Max: 269.3\n",
      "\n",
      "Min: 0.0\n",
      "\n",
      "Mode:\n",
      " 0    18.3\n",
      "Name: Yearly Mean Total Sunspot Number, dtype: float64\n",
      "\n",
      "Standard Deviation: 62.09152256355228\n",
      "\n",
      "Variance: 3855.3571742601225\n",
      "\n",
      "Skewness: 0.8147812356121689\n"
     ]
    }
   ],
   "source": [
    "import quandl\n",
    "\n",
    "# Input Quandl API key\n",
    "quandl.ApiConfig.api_key = 'LQSjhLEu2tY2XY_wLGqx'\n",
    "\n",
    "# Import the sunspots data using Quandl\n",
    "data = quandl.get('SIDC/SUNSPOTS_A')\n",
    "\n",
    "# Filter out rows where sunspots are NaN\n",
    "sunspots_data = data['Yearly Mean Total Sunspot Number'].dropna()\n",
    "\n",
    "# Print the results of the describe function\n",
    "print(\"Describe:\\n\", sunspots_data.describe())\n",
    "\n",
    "# Print the count of observations\n",
    "print(\"\\nCount of Observations:\", sunspots_data.count())\n",
    "\n",
    "# Print the mean absolute deviation\n",
    "print(\"\\nMean Absolute Deviation (MAD):\", sunspots_data.mad())\n",
    "\n",
    "# Print the mean\n",
    "print(\"\\nMean:\", sunspots_data.mean())\n",
    "\n",
    "# Print the median\n",
    "print(\"\\nMedian:\", sunspots_data.median())\n",
    "\n",
    "# Print the max\n",
    "print(\"\\nMax:\", sunspots_data.max())\n",
    "\n",
    "# Print the min\n",
    "print(\"\\nMin:\", sunspots_data.min())\n",
    "\n",
    "# Print the mode\n",
    "print(\"\\nMode:\\n\", sunspots_data.mode())\n",
    "\n",
    "# Print the standard deviation\n",
    "print(\"\\nStandard Deviation:\", sunspots_data.std())\n",
    "\n",
    "# Print the variance\n",
    "print(\"\\nVariance:\", sunspots_data.var())\n",
    "\n",
    "# Print the Skewness\n",
    "print(\"\\nSkewness:\", sunspots_data.skew())\n"
   ]
  },
  {
   "cell_type": "markdown",
   "id": "69fb01b7",
   "metadata": {},
   "source": [
    "### Solution to Exercise 5"
   ]
  },
  {
   "cell_type": "code",
   "execution_count": 65,
   "id": "0b16d48c",
   "metadata": {},
   "outputs": [],
   "source": [
    "import pandas as pd\n",
    "import numpy as np\n",
    "\n",
    "# Utilize NumPy random generator\n",
    "np.random.seed(42)\n",
    "\n",
    "# Create a DataFrame with random data\n",
    "df = pd.DataFrame({\n",
    "    'Weather': np.random.choice(['cold', 'hot'], size=10),\n",
    "    'Food': np.random.choice(['soup', 'icecream', 'chocolate'], size=10),\n",
    "    'Price': np.random.rand(10) * 10,\n",
    "    'Number': np.random.randint(1, 10, size=10)\n",
    "})\n",
    "\n",
    "# Group the data by the Weather column\n",
    "weather_group = df.groupby('Weather')"
   ]
  },
  {
   "cell_type": "code",
   "execution_count": 66,
   "id": "ed188ed1",
   "metadata": {},
   "outputs": [
    {
     "name": "stdout",
     "output_type": "stream",
     "text": [
      "First row in group 'cold':\n",
      "Weather         cold\n",
      "Food       chocolate\n",
      "Price       2.123391\n",
      "Number             3\n",
      "Name: 0, dtype: object\n",
      "\n",
      "Last row in group 'cold':\n",
      "Weather        cold\n",
      "Food       icecream\n",
      "Price      1.394939\n",
      "Number            5\n",
      "Name: 8, dtype: object\n",
      "\n",
      "Mean of group 'cold':\n",
      "Price     3.239026\n",
      "Number    4.857143\n",
      "dtype: float64\n",
      "\n",
      "First row in group 'hot':\n",
      "Weather          hot\n",
      "Food       chocolate\n",
      "Price        1.81825\n",
      "Number             7\n",
      "Name: 1, dtype: object\n",
      "\n",
      "Last row in group 'hot':\n",
      "Weather         hot\n",
      "Food       icecream\n",
      "Price      2.921446\n",
      "Number            9\n",
      "Name: 9, dtype: object\n",
      "\n",
      "Mean of group 'hot':\n",
      "Price     3.019715\n",
      "Number    7.000000\n",
      "dtype: float64\n",
      "\n"
     ]
    },
    {
     "name": "stderr",
     "output_type": "stream",
     "text": [
      "C:\\Users\\RexAr\\AppData\\Local\\Temp\\ipykernel_19036\\1252759709.py:5: FutureWarning: Dropping of nuisance columns in DataFrame reductions (with 'numeric_only=None') is deprecated; in a future version this will raise TypeError.  Select only valid columns before calling the reduction.\n",
      "  print(f\"Mean of group '{group[0]}':\\n{group[1].mean()}\\n\")\n"
     ]
    }
   ],
   "source": [
    "# Define a function to iterate through the groups and print the first row, last row, and mean for each group\n",
    "def print_group_info(group):\n",
    "    print(f\"First row in group '{group[0]}':\\n{group[1].iloc[0]}\\n\")\n",
    "    print(f\"Last row in group '{group[0]}':\\n{group[1].iloc[-1]}\\n\")\n",
    "    print(f\"Mean of group '{group[0]}':\\n{group[1].mean()}\\n\")\n",
    "\n",
    "# Iterate through the Weather groups and apply the function\n",
    "for group in weather_group:\n",
    "    print_group_info(group)"
   ]
  },
  {
   "cell_type": "code",
   "execution_count": 68,
   "id": "cb833d02",
   "metadata": {},
   "outputs": [
    {
     "name": "stdout",
     "output_type": "stream",
     "text": [
      "Aggregated data by Weather and Food:\n",
      "                     Number            Price          \n",
      "                       mean median      mean    median\n",
      "Weather Food                                          \n",
      "cold    chocolate  5.333333    4.0  2.333286  2.123391\n",
      "        icecream   4.000000    4.0  2.153615  2.153615\n",
      "        soup       5.000000    5.0  5.683047  5.683047\n",
      "hot     chocolate  6.000000    6.0  3.068850  3.068850\n",
      "        icecream   9.000000    9.0  2.921446  2.921446\n"
     ]
    }
   ],
   "source": [
    "# Group the data by both Weather and Food\n",
    "weather_food_group = df.groupby(['Weather', 'Food'])\n",
    "\n",
    "# Use the agg() function to find the mean and median number and price for the new groups\n",
    "aggregated_data = weather_food_group.agg({'Number': ['mean', 'median'], 'Price': ['mean', 'median']})\n",
    "print(\"Aggregated data by Weather and Food:\")\n",
    "print(aggregated_data)"
   ]
  },
  {
   "cell_type": "markdown",
   "id": "7832587e",
   "metadata": {},
   "source": [
    "### Solution to Exercise 6"
   ]
  },
  {
   "cell_type": "code",
   "execution_count": 70,
   "id": "b10564a1",
   "metadata": {},
   "outputs": [
    {
     "data": {
      "text/html": [
       "<div>\n",
       "<style scoped>\n",
       "    .dataframe tbody tr th:only-of-type {\n",
       "        vertical-align: middle;\n",
       "    }\n",
       "\n",
       "    .dataframe tbody tr th {\n",
       "        vertical-align: top;\n",
       "    }\n",
       "\n",
       "    .dataframe thead th {\n",
       "        text-align: right;\n",
       "    }\n",
       "</style>\n",
       "<table border=\"1\" class=\"dataframe\">\n",
       "  <thead>\n",
       "    <tr style=\"text-align: right;\">\n",
       "      <th></th>\n",
       "      <th>Weather</th>\n",
       "      <th>Food</th>\n",
       "      <th>Price</th>\n",
       "      <th>Number</th>\n",
       "    </tr>\n",
       "  </thead>\n",
       "  <tbody>\n",
       "    <tr>\n",
       "      <th>0</th>\n",
       "      <td>cold</td>\n",
       "      <td>chocolate</td>\n",
       "      <td>2.123391</td>\n",
       "      <td>3</td>\n",
       "    </tr>\n",
       "    <tr>\n",
       "      <th>1</th>\n",
       "      <td>hot</td>\n",
       "      <td>chocolate</td>\n",
       "      <td>1.818250</td>\n",
       "      <td>7</td>\n",
       "    </tr>\n",
       "    <tr>\n",
       "      <th>2</th>\n",
       "      <td>cold</td>\n",
       "      <td>chocolate</td>\n",
       "      <td>1.834045</td>\n",
       "      <td>4</td>\n",
       "    </tr>\n",
       "    <tr>\n",
       "      <th>3</th>\n",
       "      <td>cold</td>\n",
       "      <td>chocolate</td>\n",
       "      <td>3.042422</td>\n",
       "      <td>9</td>\n",
       "    </tr>\n",
       "    <tr>\n",
       "      <th>4</th>\n",
       "      <td>cold</td>\n",
       "      <td>soup</td>\n",
       "      <td>5.247564</td>\n",
       "      <td>3</td>\n",
       "    </tr>\n",
       "    <tr>\n",
       "      <th>5</th>\n",
       "      <td>hot</td>\n",
       "      <td>chocolate</td>\n",
       "      <td>4.319450</td>\n",
       "      <td>5</td>\n",
       "    </tr>\n",
       "    <tr>\n",
       "      <th>6</th>\n",
       "      <td>cold</td>\n",
       "      <td>icecream</td>\n",
       "      <td>2.912291</td>\n",
       "      <td>3</td>\n",
       "    </tr>\n",
       "    <tr>\n",
       "      <th>7</th>\n",
       "      <td>cold</td>\n",
       "      <td>soup</td>\n",
       "      <td>6.118529</td>\n",
       "      <td>7</td>\n",
       "    </tr>\n",
       "    <tr>\n",
       "      <th>8</th>\n",
       "      <td>cold</td>\n",
       "      <td>icecream</td>\n",
       "      <td>1.394939</td>\n",
       "      <td>5</td>\n",
       "    </tr>\n",
       "    <tr>\n",
       "      <th>9</th>\n",
       "      <td>hot</td>\n",
       "      <td>icecream</td>\n",
       "      <td>2.921446</td>\n",
       "      <td>9</td>\n",
       "    </tr>\n",
       "    <tr>\n",
       "      <th>0</th>\n",
       "      <td>cold</td>\n",
       "      <td>chocolate</td>\n",
       "      <td>2.123391</td>\n",
       "      <td>3</td>\n",
       "    </tr>\n",
       "    <tr>\n",
       "      <th>1</th>\n",
       "      <td>hot</td>\n",
       "      <td>chocolate</td>\n",
       "      <td>1.818250</td>\n",
       "      <td>7</td>\n",
       "    </tr>\n",
       "    <tr>\n",
       "      <th>2</th>\n",
       "      <td>cold</td>\n",
       "      <td>chocolate</td>\n",
       "      <td>1.834045</td>\n",
       "      <td>4</td>\n",
       "    </tr>\n",
       "  </tbody>\n",
       "</table>\n",
       "</div>"
      ],
      "text/plain": [
       "  Weather       Food     Price  Number\n",
       "0    cold  chocolate  2.123391       3\n",
       "1     hot  chocolate  1.818250       7\n",
       "2    cold  chocolate  1.834045       4\n",
       "3    cold  chocolate  3.042422       9\n",
       "4    cold       soup  5.247564       3\n",
       "5     hot  chocolate  4.319450       5\n",
       "6    cold   icecream  2.912291       3\n",
       "7    cold       soup  6.118529       7\n",
       "8    cold   icecream  1.394939       5\n",
       "9     hot   icecream  2.921446       9\n",
       "0    cold  chocolate  2.123391       3\n",
       "1     hot  chocolate  1.818250       7\n",
       "2    cold  chocolate  1.834045       4"
      ]
     },
     "execution_count": 70,
     "metadata": {},
     "output_type": "execute_result"
    }
   ],
   "source": [
    "# Select the first 3 rows of the dataframe\n",
    "first_three_rows = df.iloc[:3]\n",
    "\n",
    "# Using the concat function to put the 3 rows back with the original dataframe\n",
    "concatenated_df = pd.concat([df, first_three_rows])\n",
    "\n",
    "concatenated_df\n"
   ]
  },
  {
   "cell_type": "code",
   "execution_count": 87,
   "id": "0e9a76eb",
   "metadata": {},
   "outputs": [
    {
     "name": "stderr",
     "output_type": "stream",
     "text": [
      "C:\\Users\\RexAr\\AppData\\Local\\Temp\\ipykernel_19036\\3636817354.py:5: FutureWarning: The frame.append method is deprecated and will be removed from pandas in a future version. Use pandas.concat instead.\n",
      "  appended_rows = first_three_rows.append(last_two_rows)\n"
     ]
    },
    {
     "data": {
      "text/html": [
       "<div>\n",
       "<style scoped>\n",
       "    .dataframe tbody tr th:only-of-type {\n",
       "        vertical-align: middle;\n",
       "    }\n",
       "\n",
       "    .dataframe tbody tr th {\n",
       "        vertical-align: top;\n",
       "    }\n",
       "\n",
       "    .dataframe thead th {\n",
       "        text-align: right;\n",
       "    }\n",
       "</style>\n",
       "<table border=\"1\" class=\"dataframe\">\n",
       "  <thead>\n",
       "    <tr style=\"text-align: right;\">\n",
       "      <th></th>\n",
       "      <th>Weather</th>\n",
       "      <th>Food</th>\n",
       "      <th>Price</th>\n",
       "      <th>Number</th>\n",
       "    </tr>\n",
       "  </thead>\n",
       "  <tbody>\n",
       "    <tr>\n",
       "      <th>0</th>\n",
       "      <td>cold</td>\n",
       "      <td>chocolate</td>\n",
       "      <td>2.123391</td>\n",
       "      <td>3</td>\n",
       "    </tr>\n",
       "    <tr>\n",
       "      <th>1</th>\n",
       "      <td>hot</td>\n",
       "      <td>chocolate</td>\n",
       "      <td>1.818250</td>\n",
       "      <td>7</td>\n",
       "    </tr>\n",
       "    <tr>\n",
       "      <th>2</th>\n",
       "      <td>cold</td>\n",
       "      <td>chocolate</td>\n",
       "      <td>1.834045</td>\n",
       "      <td>4</td>\n",
       "    </tr>\n",
       "    <tr>\n",
       "      <th>8</th>\n",
       "      <td>cold</td>\n",
       "      <td>icecream</td>\n",
       "      <td>1.394939</td>\n",
       "      <td>5</td>\n",
       "    </tr>\n",
       "    <tr>\n",
       "      <th>9</th>\n",
       "      <td>hot</td>\n",
       "      <td>icecream</td>\n",
       "      <td>2.921446</td>\n",
       "      <td>9</td>\n",
       "    </tr>\n",
       "  </tbody>\n",
       "</table>\n",
       "</div>"
      ],
      "text/plain": [
       "  Weather       Food     Price  Number\n",
       "0    cold  chocolate  2.123391       3\n",
       "1     hot  chocolate  1.818250       7\n",
       "2    cold  chocolate  1.834045       4\n",
       "8    cold   icecream  1.394939       5\n",
       "9     hot   icecream  2.921446       9"
      ]
     },
     "execution_count": 87,
     "metadata": {},
     "output_type": "execute_result"
    }
   ],
   "source": [
    "# Select the last 2 rows of the original dataframe\n",
    "last_two_rows = df.iloc[-2:]\n",
    "\n",
    "# Using the append function to bring together the first 3 rows and the last 2 rows of the original dataframe\n",
    "appended_rows = first_three_rows.append(last_two_rows)\n",
    "\n",
    "appended_rows\n"
   ]
  },
  {
   "cell_type": "markdown",
   "id": "dd531034",
   "metadata": {},
   "source": [
    "### Solution to Exercise 7"
   ]
  },
  {
   "cell_type": "code",
   "execution_count": 94,
   "id": "eb93b5d2",
   "metadata": {},
   "outputs": [
    {
     "name": "stdout",
     "output_type": "stream",
     "text": [
      "Results of merge operation on 'EmpNr':\n",
      "   EmpNr       Dest  Amount\n",
      "0      5  The Hague    10.0\n",
      "1      9  Rotterdam     5.0\n"
     ]
    }
   ],
   "source": [
    "import pandas as pd\n",
    "\n",
    "# Load the datasets from the CSV files\n",
    "# Use raw strings (prefix with r) or double backslashes for Windows file paths\n",
    "dest_df = pd.read_csv(r'D:\\ALPHA\\Dynamic Folder\\Bellevue\\Winter 2023\\Data Wrangling\\Week 4\\dest.csv')\n",
    "tips_df = pd.read_csv(r'D:\\ALPHA\\Dynamic Folder\\Bellevue\\Winter 2023\\Data Wrangling\\Week 4\\tips.csv')\n",
    "\n",
    "# Use the merge() function to join 'dest' and 'tips' on the \"EmpNr\" column\n",
    "merged_df = pd.merge(dest_df, tips_df, on=\"EmpNr\")\n",
    "\n",
    "# Print the results of the merge\n",
    "print(\"Results of merge operation on 'EmpNr':\")\n",
    "print(merged_df)"
   ]
  },
  {
   "cell_type": "code",
   "execution_count": 95,
   "id": "53f20913",
   "metadata": {},
   "outputs": [
    {
     "name": "stdout",
     "output_type": "stream",
     "text": [
      "\n",
      "Results of join operation:\n",
      "            Dest  Amount\n",
      "EmpNr                   \n",
      "5      The Hague    10.0\n",
      "9      Rotterdam     5.0\n"
     ]
    }
   ],
   "source": [
    "# The join() function typically sets the index to the column to join on\n",
    "# Since join() requires the indexes to match, this can only be shown via dataframes\n",
    "\n",
    "dest_df.set_index('EmpNr', inplace=True)\n",
    "tips_df.set_index('EmpNr', inplace=True)\n",
    "\n",
    "# Using the join() function to join 'dest' and 'tips' dataframes\n",
    "joined_df = dest_df.join(tips_df, how='inner')\n",
    "\n",
    "# Printing the results of the join\n",
    "print(\"\\nResults of join operation:\")\n",
    "print(joined_df)"
   ]
  },
  {
   "cell_type": "markdown",
   "id": "29bff294",
   "metadata": {},
   "source": [
    "### Solution to Exercise 8"
   ]
  },
  {
   "cell_type": "code",
   "execution_count": 96,
   "id": "03558764",
   "metadata": {},
   "outputs": [
    {
     "name": "stdout",
     "output_type": "stream",
     "text": [
      "Selected Data:\n",
      "       Country  Net primary school enrolment ratio male (%)\n",
      "0  Afghanistan                                          NaN\n",
      "1      Albania                                         94.0\n",
      "2      Algeria                                         96.0\n"
     ]
    }
   ],
   "source": [
    "# Load the dataset from requested CSV file\n",
    "who_df = pd.read_csv('D:\\ALPHA\\Dynamic Folder\\Bellevue\\Winter 2023\\Data Wrangling\\Week 4\\WHO_first9cols.csv')\n",
    "\n",
    "# Select the first 3 rows, including the headers for the two specified columns\n",
    "selected_data = who_df[['Country', 'Net primary school enrolment ratio male (%)']].iloc[:3]\n",
    "\n",
    "print(\"Selected Data:\")\n",
    "print(selected_data)"
   ]
  },
  {
   "cell_type": "code",
   "execution_count": 97,
   "id": "01485353",
   "metadata": {},
   "outputs": [
    {
     "name": "stdout",
     "output_type": "stream",
     "text": [
      "\n",
      "Missing Values:\n",
      "   Country  Net primary school enrolment ratio male (%)\n",
      "0    False                                         True\n",
      "1    False                                        False\n",
      "2    False                                        False\n"
     ]
    }
   ],
   "source": [
    "# Check for missing values\n",
    "missing_values = selected_data.isnull()\n",
    "\n",
    "print(\"\\nMissing Values:\")\n",
    "print(missing_values)"
   ]
  },
  {
   "cell_type": "code",
   "execution_count": 98,
   "id": "2db8815e",
   "metadata": {},
   "outputs": [
    {
     "name": "stdout",
     "output_type": "stream",
     "text": [
      "\n",
      "Non-missing Values:\n",
      "   Country  Net primary school enrolment ratio male (%)\n",
      "1  Albania                                         94.0\n",
      "2  Algeria                                         96.0\n"
     ]
    }
   ],
   "source": [
    "# Print any non-missing values\n",
    "non_missing_values = selected_data.dropna()\n",
    "\n",
    "print(\"\\nNon-missing Values:\")\n",
    "print(non_missing_values)"
   ]
  },
  {
   "cell_type": "code",
   "execution_count": 99,
   "id": "fb9779c7",
   "metadata": {},
   "outputs": [
    {
     "name": "stdout",
     "output_type": "stream",
     "text": [
      "\n",
      "Data after replacing missing values with 92:\n",
      "       Country  Net primary school enrolment ratio male (%)\n",
      "0  Afghanistan                                         92.0\n",
      "1      Albania                                         94.0\n",
      "2      Algeria                                         96.0\n"
     ]
    }
   ],
   "source": [
    "# Replace the missing values with a scalar value. \n",
    "filled_data = selected_data.fillna(92)\n",
    "\n",
    "print(\"\\nData after replacing missing values with 92:\")\n",
    "print(filled_data)"
   ]
  }
 ],
 "metadata": {
  "kernelspec": {
   "display_name": "Python 3 (ipykernel)",
   "language": "python",
   "name": "python3"
  },
  "language_info": {
   "codemirror_mode": {
    "name": "ipython",
    "version": 3
   },
   "file_extension": ".py",
   "mimetype": "text/x-python",
   "name": "python",
   "nbconvert_exporter": "python",
   "pygments_lexer": "ipython3",
   "version": "3.9.13"
  }
 },
 "nbformat": 4,
 "nbformat_minor": 5
}
