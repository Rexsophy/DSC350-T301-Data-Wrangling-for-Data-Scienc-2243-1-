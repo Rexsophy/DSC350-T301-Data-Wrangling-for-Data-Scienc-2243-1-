{
 "cells": [
  {
   "cell_type": "markdown",
   "id": "9bf37fa8",
   "metadata": {},
   "source": [
    "## Assignment 3.2\n",
    "Author: Rex Gayas\n",
    "Date: 17 December 2023\n",
    "Modified By: N/A\n",
    "Description: This assignment provides an introductory use of Pandas for data manipulation and analysis in Python. Data is from parsed.csv which is data from earthquakes.csv with an additional column for the location (parsed from the data to handle multiple names for the same entity)."
   ]
  },
  {
   "cell_type": "code",
   "execution_count": 23,
   "id": "41c3138d",
   "metadata": {},
   "outputs": [],
   "source": [
    "import pandas as pd\n",
    "\n",
    "# Load the CSV file into a DataFrame\n",
    "file_path = \"D:\\\\ALPHA\\\\Dynamic Folder\\\\Bellevue\\\\Winter 2023\\\\Data Wrangling\\\\Week 3\\\\parsed.csv\"\n",
    "earthquakes_df = pd.read_csv(file_path)"
   ]
  },
  {
   "cell_type": "code",
   "execution_count": 24,
   "id": "a1efe6a1",
   "metadata": {},
   "outputs": [
    {
     "name": "stdout",
     "output_type": "stream",
     "text": [
      "95th percentile of earthquake mag in Japan = 4.9\n"
     ]
    }
   ],
   "source": [
    "# Exercise 1: 95th percentile of earthquake magnitude in Japan using the 'mb' type\n",
    "japan_mb_earthquakes = earthquakes_df[(earthquakes_df['parsed_place'] == 'Japan') & (earthquakes_df['magType'] == 'mb')]\n",
    "percentile_95_japan_mb = japan_mb_earthquakes['mag'].quantile(0.95)\n",
    "print(\"95th percentile of earthquake mag in Japan =\", percentile_95_japan_mb)"
   ]
  },
  {
   "cell_type": "code",
   "execution_count": 25,
   "id": "934e1466",
   "metadata": {},
   "outputs": [
    {
     "name": "stdout",
     "output_type": "stream",
     "text": [
      "Percentage of earthquakes in Indonesia w/ Tsunamis = 23.12925170068027\n"
     ]
    }
   ],
   "source": [
    "# Exercise 2: Percentage of earthquakes in Indonesia that were coupled with tsunamis\n",
    "indonesia_earthquakes = earthquakes_df[earthquakes_df['parsed_place'] == 'Indonesia']\n",
    "percentage_tsunamis_indonesia = (indonesia_earthquakes['tsunami'].sum() / len(indonesia_earthquakes)) * 100\n",
    "print(\"Percentage of earthquakes in Indonesia w/ Tsunamis =\", percentage_tsunamis_indonesia)"
   ]
  },
  {
   "cell_type": "code",
   "execution_count": 26,
   "id": "280ec872",
   "metadata": {},
   "outputs": [
    {
     "name": "stdout",
     "output_type": "stream",
     "text": [
      "Nevada Summary Statistics =              cdi        dmin       felt         gap         mag   mmi  \\\n",
      "count  15.000000  681.000000  15.000000  681.000000  681.000000  1.00   \n",
      "mean    2.440000    0.166199   2.400000  153.668120    0.500073  2.84   \n",
      "std     0.501142    0.166228   4.626013   68.735302    0.696710   NaN   \n",
      "min     2.000000    0.001000   1.000000   29.140000   -0.500000  2.84   \n",
      "25%     2.000000    0.053000   1.000000   97.380000   -0.100000  2.84   \n",
      "50%     2.200000    0.112000   1.000000  149.140000    0.400000  2.84   \n",
      "75%     2.900000    0.233000   1.000000  199.720000    0.900000  2.84   \n",
      "max     3.300000    1.414000  19.000000  355.910000    2.900000  2.84   \n",
      "\n",
      "              nst         rms         sig          time  tsunami     tz  \\\n",
      "count  681.000000  681.000000  681.000000  6.810000e+02    681.0  681.0   \n",
      "mean    12.618209    0.151986   10.970631  1.538314e+12      0.0 -480.0   \n",
      "std      9.866963    0.084662   19.607150  5.965637e+08      0.0    0.0   \n",
      "min      3.000000    0.000500    0.000000  1.537247e+12      0.0 -480.0   \n",
      "25%      6.000000    0.106900    0.000000  1.537854e+12      0.0 -480.0   \n",
      "50%     10.000000    0.146300    2.000000  1.538280e+12      0.0 -480.0   \n",
      "75%     16.000000    0.187100   12.000000  1.538821e+12      0.0 -480.0   \n",
      "max     61.000000    0.863400  129.000000  1.539461e+12      0.0 -480.0   \n",
      "\n",
      "            updated  \n",
      "count  6.810000e+02  \n",
      "mean   1.538402e+12  \n",
      "std    6.010951e+08  \n",
      "min    1.537307e+12  \n",
      "25%    1.537928e+12  \n",
      "50%    1.538428e+12  \n",
      "75%    1.538878e+12  \n",
      "max    1.539483e+12  \n"
     ]
    }
   ],
   "source": [
    "# Exercise 3: Summary statistics for earthquakes in Nevada\n",
    "nevada_earthquakes = earthquakes_df[earthquakes_df['parsed_place'] == 'Nevada']\n",
    "nevada_summary_statistics = nevada_earthquakes.describe()\n",
    "print(\"Nevada Summary Statistics =\", nevada_summary_statistics)"
   ]
  },
  {
   "cell_type": "code",
   "execution_count": 30,
   "id": "809f8708",
   "metadata": {},
   "outputs": [
    {
     "data": {
      "text/html": [
       "<div>\n",
       "<style scoped>\n",
       "    .dataframe tbody tr th:only-of-type {\n",
       "        vertical-align: middle;\n",
       "    }\n",
       "\n",
       "    .dataframe tbody tr th {\n",
       "        vertical-align: top;\n",
       "    }\n",
       "\n",
       "    .dataframe thead th {\n",
       "        text-align: right;\n",
       "    }\n",
       "</style>\n",
       "<table border=\"1\" class=\"dataframe\">\n",
       "  <thead>\n",
       "    <tr style=\"text-align: right;\">\n",
       "      <th></th>\n",
       "      <th>parsed_place</th>\n",
       "      <th>in_ring_of_fire</th>\n",
       "    </tr>\n",
       "  </thead>\n",
       "  <tbody>\n",
       "    <tr>\n",
       "      <th>0</th>\n",
       "      <td>California</td>\n",
       "      <td>True</td>\n",
       "    </tr>\n",
       "    <tr>\n",
       "      <th>1</th>\n",
       "      <td>California</td>\n",
       "      <td>True</td>\n",
       "    </tr>\n",
       "    <tr>\n",
       "      <th>2</th>\n",
       "      <td>California</td>\n",
       "      <td>True</td>\n",
       "    </tr>\n",
       "    <tr>\n",
       "      <th>3</th>\n",
       "      <td>California</td>\n",
       "      <td>True</td>\n",
       "    </tr>\n",
       "    <tr>\n",
       "      <th>4</th>\n",
       "      <td>California</td>\n",
       "      <td>True</td>\n",
       "    </tr>\n",
       "  </tbody>\n",
       "</table>\n",
       "</div>"
      ],
      "text/plain": [
       "  parsed_place  in_ring_of_fire\n",
       "0   California             True\n",
       "1   California             True\n",
       "2   California             True\n",
       "3   California             True\n",
       "4   California             True"
      ]
     },
     "execution_count": 30,
     "metadata": {},
     "output_type": "execute_result"
    }
   ],
   "source": [
    "# Exercise 4: Column indicating whether the earthquake happened in the Ring of Fire\n",
    "\n",
    "# Define the list of locations that are part of the Ring of Fire\n",
    "ring_of_fire_locations = [\n",
    "    'Alaska', 'Antarctica', 'Bolivia', 'California', 'Canada', 'Chile', 'Costa Rica', \n",
    "    'Ecuador', 'Fiji', 'Guatemala', 'Indonesia', 'Japan', 'Kermadec Islands', 'Mexico', \n",
    "    'New Zealand', 'Peru', 'Philippines', 'Russia', 'Taiwan', 'Tonga', 'Washington'\n",
    "]\n",
    "\n",
    "# Note not to include \"New Mexico\" when looking for \"Mexico\"\n",
    "# Add a new column to the dataframe that checks if the earthquake's location is in the Ring of Fire\n",
    "earthquakes_df['in_ring_of_fire'] = earthquakes_df['parsed_place'].apply(\n",
    "    lambda location: any(rof_location in location for rof_location in ring_of_fire_locations) and 'New Mexico' not in location\n",
    ")\n",
    "\n",
    "# Display the first few rows of the dataframe to verify the new column\n",
    "earthquakes_df[['parsed_place', 'in_ring_of_fire']].head()\n",
    "\n"
   ]
  },
  {
   "cell_type": "code",
   "execution_count": 31,
   "id": "eda7ab24",
   "metadata": {},
   "outputs": [
    {
     "name": "stdout",
     "output_type": "stream",
     "text": [
      "Number of earthquakes in the Ring of Fire locations = 7184\n",
      "Number of earthquakes outside the same locations = 2148\n"
     ]
    }
   ],
   "source": [
    "# Exercise 5: Number of earthquakes in the Ring of Fire locations and the number outside of them\n",
    "ring_of_fire_earthquake_count = earthquakes_df['in_ring_of_fire'].sum()\n",
    "outside_ring_of_fire_earthquake_count = len(earthquakes_df) - ring_of_fire_earthquake_count\n",
    "print(\"Number of earthquakes in the Ring of Fire locations =\", ring_of_fire_earthquake_count)\n",
    "print(\"Number of earthquakes outside the same locations =\", outside_ring_of_fire_earthquake_count)"
   ]
  },
  {
   "cell_type": "code",
   "execution_count": 32,
   "id": "627ea498",
   "metadata": {},
   "outputs": [
    {
     "name": "stdout",
     "output_type": "stream",
     "text": [
      "Tsunami count along Ring of Fire = 45\n"
     ]
    }
   ],
   "source": [
    "# Exercise 6: Tsunami count along the Ring of Fire\n",
    "tsunami_ring_of_fire_count = earthquakes_df[earthquakes_df['in_ring_of_fire']]['tsunami'].sum()\n",
    "print(\"Tsunami count along Ring of Fire =\", tsunami_ring_of_fire_count)"
   ]
  },
  {
   "cell_type": "code",
   "execution_count": null,
   "id": "7bde46c5",
   "metadata": {},
   "outputs": [],
   "source": []
  }
 ],
 "metadata": {
  "kernelspec": {
   "display_name": "Python 3 (ipykernel)",
   "language": "python",
   "name": "python3"
  },
  "language_info": {
   "codemirror_mode": {
    "name": "ipython",
    "version": 3
   },
   "file_extension": ".py",
   "mimetype": "text/x-python",
   "name": "python",
   "nbconvert_exporter": "python",
   "pygments_lexer": "ipython3",
   "version": "3.9.13"
  }
 },
 "nbformat": 4,
 "nbformat_minor": 5
}
